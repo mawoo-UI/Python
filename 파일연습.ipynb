{
  "nbformat": 4,
  "nbformat_minor": 0,
  "metadata": {
    "colab": {
      "provenance": [],
      "authorship_tag": "ABX9TyOXmkv0JJOsN0Qu+HT6d5GI",
      "include_colab_link": true
    },
    "kernelspec": {
      "name": "python3",
      "display_name": "Python 3"
    },
    "language_info": {
      "name": "python"
    }
  },
  "cells": [
    {
      "cell_type": "markdown",
      "metadata": {
        "id": "view-in-github",
        "colab_type": "text"
      },
      "source": [
        "<a href=\"https://colab.research.google.com/github/mawoo-UI/Python/blob/main/%ED%8C%8C%EC%9D%BC%EC%97%B0%EC%8A%B5.ipynb\" target=\"_parent\"><img src=\"https://colab.research.google.com/assets/colab-badge.svg\" alt=\"Open In Colab\"/></a>"
      ]
    },
    {
      "cell_type": "code",
      "execution_count": 1,
      "metadata": {
        "colab": {
          "base_uri": "https://localhost:8080/"
        },
        "id": "Qzo7iBfZaF63",
        "outputId": "5030bbbd-7963-47b2-a6ad-4fcbaacb48a8"
      },
      "outputs": [
        {
          "output_type": "stream",
          "name": "stdout",
          "text": [
            "안녕하세요!\n",
            "파이썬 파일 처리를 배우고 있습니다.\n"
          ]
        }
      ],
      "source": [
        "with open(\"hello.txt\", \"w\") as file:\n",
        "  file.write(\"안녕하세요!\\n\")\n",
        "  file.write(\"파이썬 파일 처리를 배우고 있습니다.\")\n",
        "\n",
        "with open(\"hello.txt\", \"r\") as file:\n",
        "  content = file.read()\n",
        "  print(content)"
      ]
    },
    {
      "cell_type": "code",
      "source": [
        "lines = [\"첫 번째 줄입니다.\", \"두 번째 줄입니다.\", \"세 번째 줄입니다.\"]\n",
        "with open(\"lines.txt\", \"w\") as file:\n",
        "  for line in lines:\n",
        "    file.write(line + \"\\n\")\n",
        "\n",
        "with open(\"lines.txt\", \"r\") as file:\n",
        "  for line in file:\n",
        "    print(line.strip())\n"
      ],
      "metadata": {
        "colab": {
          "base_uri": "https://localhost:8080/"
        },
        "id": "bJpB7s7XauI7",
        "outputId": "3c79cffd-5272-4cf3-8162-bf1d80acc205"
      },
      "execution_count": 2,
      "outputs": [
        {
          "output_type": "stream",
          "name": "stdout",
          "text": [
            "첫 번째 줄입니다.\n",
            "두 번째 줄입니다.\n",
            "세 번째 줄입니다.\n"
          ]
        }
      ]
    },
    {
      "cell_type": "code",
      "source": [
        "import csv\n",
        "\n",
        "data = [\n",
        "    [\"이름\", \"나이\", \"직업\"],\n",
        "    [\"곽두팔\",\"47\", \"스님\"],\n",
        "    [\"마원식\", \"36\", \"어린이집 교사\"],\n",
        "    [\"차원식\", \"29\", \"렉카\"]\n",
        "]\n",
        "\n",
        "with open(\"people.csv\", \"w\", newline=\"\") as file:\n",
        "  writer = csv.writer(file)\n",
        "  writer.writerows(data)\n",
        "\n",
        "with open(\"people.csv\", \"r\") as file:\n",
        "  reader = csv.reader(file)\n",
        "  for row in reader:\n",
        "    print(\",\".join(row))"
      ],
      "metadata": {
        "colab": {
          "base_uri": "https://localhost:8080/"
        },
        "id": "6uzOc-KhbtJc",
        "outputId": "e3f993d9-6481-4a9d-9867-562482c0ae1a"
      },
      "execution_count": 4,
      "outputs": [
        {
          "output_type": "stream",
          "name": "stdout",
          "text": [
            "이름,나이,직업\n",
            "곽두팔,47,스님\n",
            "마원식,36,어린이집 교사\n",
            "차원식,29,렉카\n"
          ]
        }
      ]
    },
    {
      "cell_type": "code",
      "source": [
        "def copy_file(source, destination):\n",
        "  try:\n",
        "    with open(source, \"rb\") as src:\n",
        "      with open(destination, \"wb\") as dst:\n",
        "        dst.write(src.read())\n",
        "    print(f\"{source}를 {destination} 으로 복사 완료!\")\n",
        "    return True\n",
        "  except FileNotFoundError:\n",
        "    print(f\"오류: {source} 파일을 찾을 수 없습니다.\")\n",
        "    return False\n",
        "  except Exception as e:\n",
        "    print(f\"오류 발생: {e}\")\n",
        "    return False\n",
        "\n",
        "copy_file(\"원본.txt\", \"복사본.txt\")\n",
        ""
      ],
      "metadata": {
        "colab": {
          "base_uri": "https://localhost:8080/"
        },
        "id": "o3EfTPXMf2-i",
        "outputId": "e08b092a-dad5-4e71-b1c9-2ff0bcc207e6"
      },
      "execution_count": 6,
      "outputs": [
        {
          "output_type": "stream",
          "name": "stdout",
          "text": [
            "오류: 원본.txt 파일을 찾을 수 없습니다.\n"
          ]
        },
        {
          "output_type": "execute_result",
          "data": {
            "text/plain": [
              "False"
            ]
          },
          "metadata": {},
          "execution_count": 6
        }
      ]
    },
    {
      "cell_type": "code",
      "source": [
        "def simple_notepad():\n",
        "  filename = input(\"저장할 파일 이름을 입력하세요: \")\n",
        "  print(\"메모를 입력하세요. 입력을 마치려면 빈 줄에서 엔터를 누르세요.\")\n",
        "\n",
        "  lines = []\n",
        "  while True:\n",
        "    line = input()\n",
        "    if not line :\n",
        "      break\n",
        "    lines.append(line)\n",
        "\n",
        "  with open(filename, \"w\") as file:\n",
        "    for line in lines:\n",
        "      file.write(line + \"\\n\")\n",
        "\n",
        "  print(f\"{filename}에 메모가 저장되었습니다.\")\n",
        "\n",
        "simple_notepad()"
      ],
      "metadata": {
        "colab": {
          "base_uri": "https://localhost:8080/"
        },
        "id": "8mKBw9tLi9LE",
        "outputId": "f711d932-8e50-4253-a9ed-94812f10d9f6"
      },
      "execution_count": 9,
      "outputs": [
        {
          "output_type": "stream",
          "name": "stdout",
          "text": [
            "저장할 파일 이름을 입력하세요: 저녁뭐먹지\n",
            "메모를 입력하세요. 입력을 마치려면 빈 줄에서 엔터를 누르세요.\n",
            "간장게장?\n",
            "양념게장?\n",
            "뿌링클?\n",
            "파파존스 불고기피자 +골드링라지 + 갈릭소스?\n",
            "노모어 스윗고구마 피자?\n",
            "\n",
            "저녁뭐먹지에 메모가 저장되었습니다.\n"
          ]
        }
      ]
    }
  ]
}