{
  "nbformat": 4,
  "nbformat_minor": 0,
  "metadata": {
    "colab": {
      "provenance": [],
      "authorship_tag": "ABX9TyP67oWyvQQ+wWu9ujHybfjN",
      "include_colab_link": true
    },
    "kernelspec": {
      "name": "python3",
      "display_name": "Python 3"
    },
    "language_info": {
      "name": "python"
    }
  },
  "cells": [
    {
      "cell_type": "markdown",
      "metadata": {
        "id": "view-in-github",
        "colab_type": "text"
      },
      "source": [
        "<a href=\"https://colab.research.google.com/github/mawoo-UI/Python/blob/main/Python%EB%AA%A8%EB%93%88_%EC%97%B0%EC%8A%B5.ipynb\" target=\"_parent\"><img src=\"https://colab.research.google.com/assets/colab-badge.svg\" alt=\"Open In Colab\"/></a>"
      ]
    },
    {
      "cell_type": "code",
      "execution_count": null,
      "metadata": {
        "colab": {
          "base_uri": "https://localhost:8080/"
        },
        "id": "4bSGMc2TBcWZ",
        "outputId": "8da310bb-f728-4429-fd16-286a3ad275d8"
      },
      "outputs": [
        {
          "output_type": "stream",
          "name": "stdout",
          "text": [
            "36\n"
          ]
        }
      ],
      "source": [
        "def add(a, b):\n",
        "  return a + b\n",
        "def subtract (a, b):\n",
        "  return a - b\n",
        "\n",
        "PI = 3.14159\n",
        "\n",
        "class Calculator:\n",
        "  def multiply(self, a, b):\n",
        "    return a * b\n",
        "\n",
        "print(add(5, 4) * subtract(9, 5))"
      ]
    },
    {
      "cell_type": "markdown",
      "source": [
        "# 새 섹션"
      ],
      "metadata": {
        "id": "9QuaWtXxrT6r"
      }
    },
    {
      "cell_type": "code",
      "source": [
        "%%writefile my_module.py\n",
        "\n",
        "name = \"Python 모듈 시스템\"\n",
        "version = 3.10\n",
        "\n",
        "def greet(person):\n",
        "  return f\"안녕하세요, {person}님!\"\n",
        "  #print(person)\n",
        "def add(a, b):\n",
        "  return a + b\n",
        "\n",
        "class Calculator:\n",
        "  def __init__(self, name=\"기본 계산기\"):\n",
        "    self.name = name\n",
        "\n",
        "  def multiply(self, a, b):\n",
        "    return a * b\n",
        "  def divide(self, a, b):\n",
        "    if b == 0:\n",
        "      return \"0으로 나눌 수 없습니다.\"\n",
        "    return a / b"
      ],
      "metadata": {
        "colab": {
          "base_uri": "https://localhost:8080/"
        },
        "id": "1O5lnmLMD75D",
        "outputId": "fd5bed80-a0a5-440b-947a-ea7bffa43efa"
      },
      "execution_count": null,
      "outputs": [
        {
          "output_type": "stream",
          "name": "stdout",
          "text": [
            "Writing my_module.py\n"
          ]
        }
      ]
    },
    {
      "cell_type": "markdown",
      "source": [
        "# 새 섹션"
      ],
      "metadata": {
        "id": "Y8ptf0GQFIaw"
      }
    },
    {
      "cell_type": "code",
      "source": [
        "import my_module\n",
        "\n",
        "print(my_module.name)\n",
        "print(my_module.version)\n",
        "\n",
        "print(my_module.greet(\"로나\")) #다른클래스에 있는 안녕하세요 ~ 님!\n",
        "print(my_module.add(10, 20)) #더하기 a + b\n",
        "\n",
        "calc = my_module.Calculator(\"내 계산기\")\n",
        "print(calc.name) # cal 함수에 있는 이름\n",
        "print(calc.multiply(3,4)) # a *b\n",
        "print(calc.divide(10, 2))"
      ],
      "metadata": {
        "colab": {
          "base_uri": "https://localhost:8080/"
        },
        "id": "hIZeV7rfEZQu",
        "outputId": "da7dab9e-0291-4abd-afed-e224d3b5569a"
      },
      "execution_count": null,
      "outputs": [
        {
          "output_type": "stream",
          "name": "stdout",
          "text": [
            "Python 모듈 시스템\n",
            "3.1\n",
            "안녕하세요, 로나님!\n",
            "30\n",
            "내 계산기\n",
            "12\n",
            "5.0\n"
          ]
        }
      ]
    },
    {
      "cell_type": "markdown",
      "source": [
        "# 새 섹션"
      ],
      "metadata": {
        "id": "XstH4ZgEG7qd"
      }
    },
    {
      "cell_type": "code",
      "source": [
        "from my_module import  greet, Calculator\n",
        "\n",
        "# 가져온 함수 직접 사용 (모듈 이름 없이)\n",
        "print(greet(\"포로리\"))\n",
        "# 가져온 클래스 직접 사용\n",
        "calc = Calculator(\"고오급 계산기\")\n",
        "print(calc.name)\n",
        "print(calc.multiply(20,4)) # a * b\n",
        "\n",
        "# 주의: version은 가져오지 않았으므로 사용 불가\n",
        "# print(version)  # 오류 발생: NameError: name 'version' is not defined"
      ],
      "metadata": {
        "colab": {
          "base_uri": "https://localhost:8080/"
        },
        "id": "DenMONMeG83G",
        "outputId": "6c4d0b4b-0f01-4c62-a7e3-6b5c4ad4c880"
      },
      "execution_count": null,
      "outputs": [
        {
          "output_type": "stream",
          "name": "stdout",
          "text": [
            "안녕하세요, 포로리님!\n",
            "고오급 계산기\n",
            "80\n"
          ]
        }
      ]
    },
    {
      "cell_type": "markdown",
      "source": [
        "# 새 섹션"
      ],
      "metadata": {
        "id": "qshOXgsrHpRC"
      }
    },
    {
      "cell_type": "code",
      "source": [
        "import my_module as mm\n",
        "# as mm / mm은 별칭설정\n",
        "\n",
        "print(mm.name)\n",
        "print(mm.add(58, 26))\n",
        "\n",
        "# 특정 항목에 별칭 지정\n",
        "from my_module import Calculator as Calc, greet as say_hello\n",
        "\n",
        "my_cal = Calc(\"간단 계산기\")\n",
        "print(my_cal.name)\n",
        "print(say_hello(\"이모탭\"))"
      ],
      "metadata": {
        "colab": {
          "base_uri": "https://localhost:8080/"
        },
        "id": "GgFthWMnHqyE",
        "outputId": "1568a525-538c-40ce-dfc0-e60111055a8d"
      },
      "execution_count": null,
      "outputs": [
        {
          "output_type": "stream",
          "name": "stdout",
          "text": [
            "간단 계산기\n",
            "안녕하세요, 이모탭님!\n"
          ]
        }
      ]
    },
    {
      "cell_type": "markdown",
      "source": [
        "# 새 섹션"
      ],
      "metadata": {
        "id": "11sfYQ6ZIwAd"
      }
    },
    {
      "cell_type": "code",
      "source": [
        "# 셀 5: 모든 항목 가져오기 (*는 주의해서 사용해야 함)\n",
        "from my_module import *\n",
        "\n",
        "#모든 항목을 직접 사용 가능\n",
        "print(name)\n",
        "print(version)\n",
        "print(greet(\"임금\"))\n",
        "print(add(8,7))\n",
        "\n",
        "calc = Calculator(\"별표 계산기\")\n",
        "print(calc.name)"
      ],
      "metadata": {
        "colab": {
          "base_uri": "https://localhost:8080/"
        },
        "id": "rM0T5m_LIyXa",
        "outputId": "c9fc605c-c687-4846-d0f6-fed60f3bb1f2"
      },
      "execution_count": null,
      "outputs": [
        {
          "output_type": "stream",
          "name": "stdout",
          "text": [
            "Python 모듈 시스템\n",
            "3.1\n",
            "안녕하세요, 임금님!\n",
            "15\n",
            "별표 계산기\n"
          ]
        }
      ]
    },
    {
      "cell_type": "markdown",
      "source": [
        "# 새 섹션"
      ],
      "metadata": {
        "id": "hYkRi89WY31L"
      }
    },
    {
      "cell_type": "code",
      "source": [
        "!mkdir -p my_package\n",
        "!touch my_package/__init__.py"
      ],
      "metadata": {
        "id": "Huh6pjvgY5Tk"
      },
      "execution_count": null,
      "outputs": []
    },
    {
      "cell_type": "markdown",
      "source": [
        "# 새 섹션"
      ],
      "metadata": {
        "id": "hymjM7FesQf1"
      }
    },
    {
      "cell_type": "code",
      "source": [
        "#패키지 초기화 파일 작성\n",
        "%%writefile my_package/__init__.py\n",
        "\"\"\"my_package 초기화 파일\"\"\"\n",
        "print(\"my_package가 임포트 되었습니다!\")\n",
        "\n",
        "# 패키지 정보\n",
        "__version__ = \"1.0.0\""
      ],
      "metadata": {
        "colab": {
          "base_uri": "https://localhost:8080/"
        },
        "id": "UhPDPjVUr4Uw",
        "outputId": "723da277-c70b-4392-cd83-45380e055aa1"
      },
      "execution_count": null,
      "outputs": [
        {
          "output_type": "stream",
          "name": "stdout",
          "text": [
            "Overwriting my_package/__init__.py\n"
          ]
        }
      ]
    },
    {
      "cell_type": "markdown",
      "source": [
        "# 새 섹션"
      ],
      "metadata": {
        "id": "CIhJ35i2r96a"
      }
    },
    {
      "cell_type": "code",
      "source": [
        "%%writefile my_package/math_utils.py\n",
        "\"\"\"수학 유틸리티 함수 모듈\"\"\"\n",
        "\n",
        "PI = 3.14159\n",
        "\n",
        "def add(a, b):\n",
        "  \"\"\"두 수를 더합니다.\"\"\"\n",
        "  return a + b\n",
        "\n",
        "def multiply(a, b):\n",
        "  \"\"\"두 수를 곱합니다.\"\"\"\n",
        "  return a * b\n",
        "\n",
        "class MathUtility:\n",
        "  \"\"\"수학 유틸리티 클래스\"\"\"\n",
        "\n",
        "  @staticmethod\n",
        "  def square(x):\n",
        "    \"\"\"숫자의 제곱을 반환합니다.\"\"\"\n",
        "    return x * x"
      ],
      "metadata": {
        "colab": {
          "base_uri": "https://localhost:8080/"
        },
        "id": "klTJPovjsW-L",
        "outputId": "b9abfb78-cdc9-4736-e09a-d23502540e5a"
      },
      "execution_count": null,
      "outputs": [
        {
          "output_type": "stream",
          "name": "stdout",
          "text": [
            "Overwriting my_package/math_utils.py\n"
          ]
        }
      ]
    },
    {
      "cell_type": "code",
      "source": [
        "# 셀 11: 패키지 사용하기\n",
        "import my_package\n",
        "print(my_package.__version__)\n",
        "\n",
        "# 패키지 내 모듈 가져오기\n",
        "from my_package import math_utils\n",
        "\n",
        "# 모듈 사용\n",
        "print(math_utils.PI)  # 출력: 3.14159\n",
        "print(math_utils.add(5, 3))  # 출력: 8\n",
        "\n",
        "# 모듈 내 클래스 사용\n",
        "print(math_utils.MathUtility.square(4))  # 출력: 16\n"
      ],
      "metadata": {
        "colab": {
          "base_uri": "https://localhost:8080/"
        },
        "id": "iVGxrsFGswl6",
        "outputId": "91f97348-0680-4818-f05c-a66dfca7def2"
      },
      "execution_count": null,
      "outputs": [
        {
          "output_type": "stream",
          "name": "stdout",
          "text": [
            "1.0.0\n",
            "3.14159\n",
            "8\n",
            "16\n"
          ]
        }
      ]
    },
    {
      "cell_type": "markdown",
      "source": [
        "# 새 섹션"
      ],
      "metadata": {
        "id": "cAxWfdnNxWYO"
      }
    },
    {
      "cell_type": "code",
      "source": [
        "# datetime 모듈 - 날짜 시간 처리\n",
        "import datetime\n",
        "\n",
        "now = datetime.datetime.now()\n",
        "print(f\"현재 시간: {now}\")\n",
        "print(f\"형식화된 날짜: {now.strftime('%Y년 %m월 %d일')}\")\n",
        "\n",
        "# 일주일 후 날짜 계산\n",
        "one_week_later = now + datetime.timedelta(days=7)\n",
        "print(f\"일주일 후:{one_week_later.strftime('%Y년 %m월 %d일')}\")\n",
        "\n",
        "one_month_later = now + datetime.timedelta(days=31)\n",
        "print(f\"한달 후: {one_month_later.strftime('%Y년 %m월 %d일')}\")"
      ],
      "metadata": {
        "colab": {
          "base_uri": "https://localhost:8080/"
        },
        "id": "XEPNBQQxxWn0",
        "outputId": "32bb65b1-ac62-4cd2-9827-f3452d500d86"
      },
      "execution_count": null,
      "outputs": [
        {
          "output_type": "stream",
          "name": "stdout",
          "text": [
            "현재 시간: 2025-04-10 17:41:21.668380\n",
            "형식화된 날짜: 2025년 04월 10일\n",
            "일주일 후:2025년 04월 17일\n",
            "한달 후: 2025년 05월 11일\n"
          ]
        }
      ]
    },
    {
      "cell_type": "code",
      "source": [
        "import random\n",
        "\n",
        "print(f\"0~1 사이 난수: {random.random()}\")\n",
        "print(f\"1~100 사이 정수: {random.randint(1, 100)}\")\n",
        "\n",
        "# 리스트에서 랜덤 선택\n",
        "fruits = ['사과', '바나나', '딸기', '포도', '오렌지']\n",
        "print(f\"랜덤 과일: {random.choice(fruits)}\")\n",
        "print(f\"과일 3개 선택: {random.sample(fruits, 3)}\")\n",
        "\n",
        "# 리스트 섞기\n",
        "random.shuffle(fruits)\n",
        "print(f\"섞인 과일 목록: {fruits}\")"
      ],
      "metadata": {
        "colab": {
          "base_uri": "https://localhost:8080/"
        },
        "id": "5l_RLJ-vyu1O",
        "outputId": "e39bf54f-d9d5-42a4-d567-de1e4a5ffa38"
      },
      "execution_count": null,
      "outputs": [
        {
          "output_type": "stream",
          "name": "stdout",
          "text": [
            "0~1 사이 난수: 0.3648164189152723\n",
            "1~100 사이 정수: 65\n",
            "랜덤 과일: 포도\n",
            "과일 3개 선택: ['딸기', '오렌지', '바나나']\n",
            "섞인 과일 목록: ['오렌지', '포도', '사과', '바나나', '딸기']\n"
          ]
        }
      ]
    },
    {
      "cell_type": "code",
      "source": [
        "import math\n",
        "\n",
        "print(f\"원주율(π): {math.pi}\")\n",
        "print(f\"자연상수(e): {math.e}\")\n",
        "print(f\"9의 제곱근: {math.sqrt(9)}\")\n",
        "print(f\"천장값 ceil(3.2): {math.ceil(3.2)}\")\n",
        "print(f\"바닥값 floor(3.8) {math.floor(3.8)}\")\n",
        "print(f\"5의 3승: {math.pow(5, 3)}\")\n",
        "print(f\"60도의 사인값:{math.sin(math.radians(60))}\")"
      ],
      "metadata": {
        "colab": {
          "base_uri": "https://localhost:8080/"
        },
        "id": "IN-vdmhI4qsN",
        "outputId": "c151aa9e-f5f1-4e9d-9b07-5deedec9e7fa"
      },
      "execution_count": null,
      "outputs": [
        {
          "output_type": "stream",
          "name": "stdout",
          "text": [
            "원주율(π): 3.141592653589793\n",
            "자연상수(e): 2.718281828459045\n",
            "9의 제곱근: 3.0\n",
            "천장값 ceil(3.2): 4\n",
            "바닥값 floor(3.8) 3\n",
            "5의 3승: 125.0\n",
            "60도의 사인값:0.8660254037844386\n"
          ]
        }
      ]
    },
    {
      "cell_type": "code",
      "source": [
        "import json\n",
        "\n",
        "#파이썬 딕셔너리\n",
        "user = {\n",
        "    \"name\": \"파파존스\",\n",
        "    \"age\": \"30\",\n",
        "    \"is_active\": True,\n",
        "    \"skills\" : [\"Python\", \"javaScript\", \"SQL\"]\n",
        "}\n",
        "\n",
        "# JSON 문자열로 변환(직렬화)\n",
        "json_str = json.dumps(user, ensure_ascii=False, indent = 2)\n",
        "print(\"JSON 문자열:\")\n",
        "print(json_str)\n",
        "\n",
        "# JSON 문자열을 파이썬 객체로 변환(역질렬화)\n",
        "\n",
        "parsed_user = json.loads(json_str)\n",
        "print(f\"\\n이름:{parsed_user['name']}\")\n",
        "print(f\"나이:{parsed_user['age']}\")\n",
        "print(f\"스킬:{', '.join(parsed_user['skills'])}\")"
      ],
      "metadata": {
        "colab": {
          "base_uri": "https://localhost:8080/"
        },
        "id": "4Wq74pC14wZx",
        "outputId": "71379f4a-1329-4e75-c4dc-001eccfada93"
      },
      "execution_count": null,
      "outputs": [
        {
          "output_type": "stream",
          "name": "stdout",
          "text": [
            "JSON 문자열:\n",
            "{\n",
            "  \"name\": \"파파존스\",\n",
            "  \"age\": \"30\",\n",
            "  \"is_active\": true,\n",
            "  \"skills\": [\n",
            "    \"Python\",\n",
            "    \"javaScript\",\n",
            "    \"SQL\"\n",
            "  ]\n",
            "}\n",
            "\n",
            "이름:파파존스\n",
            "나이:30\n",
            "스킬:Python, javaScript, SQL\n"
          ]
        }
      ]
    },
    {
      "cell_type": "code",
      "source": [
        "from collections import Counter, defaultdict, namedtuple\n",
        "\n",
        "# Counter - 요소 개수 세기\n",
        "words = ['사과', '바나나', '사과', '딸기', '바나나', '사과']\n",
        "word_count = Counter(words)\n",
        "print(f\"단어카운터: {word_count}\")\n",
        "print(f\"가장 많은 단어: {word_count.most_common(1)}\")\n",
        "\n",
        "#defaultdict - 기본값을 가진 딕셔너리\n",
        "fruits_colors = defaultdict(list)\n",
        "fruits_colors['빨강'].append('사과')\n",
        "fruits_colors['빨강'].append('사과')\n",
        "fruits_colors['노랑'].append('바나나')\n",
        "print(f\"과일 색상: {dict(fruits_colors)}\")\n",
        "\n",
        "#namedtuple - 이름 있는 필드를 가진 튜플\n",
        "Person = namedtuple('Person', ['name', 'age', 'job'])\n",
        "person1 = Person('카카오',\"25\", '흑인')\n",
        "print(f\"이름: {person1.name}, 나이:{person1.age}, 직업:{person1.job}\")"
      ],
      "metadata": {
        "colab": {
          "base_uri": "https://localhost:8080/"
        },
        "id": "ygdUOgpF6HMC",
        "outputId": "62c85282-3fc9-4a54-f153-1dbeaaa52090"
      },
      "execution_count": null,
      "outputs": [
        {
          "output_type": "stream",
          "name": "stdout",
          "text": [
            "단어카운터: Counter({'사과': 3, '바나나': 2, '딸기': 1})\n",
            "가장 많은 단어: [('사과', 3)]\n",
            "과일 색상: {'빨강': ['사과', '사과'], '노랑': ['바나나']}\n",
            "이름: 카카오, 나이:25, 직업:흑인\n"
          ]
        }
      ]
    },
    {
      "cell_type": "code",
      "source": [
        "%%writefile file_utils.py\n",
        "\"\"\"파일 처리 유틸리티 모듈\"\"\"\n",
        "\n",
        "def read_file(filename):\n",
        "  \"\"\"파일 내용을 읽어 문자열로 반환합니다.\"\"\"\n",
        "  try:\n",
        "    with open(filename, 'r', encoding='utf-8') as f:\n",
        "      return f.read()\n",
        "  except FileNotFoundError:\n",
        "    return f\"오류: {filename} 파일을 찾을 수 없습니다.\"\n",
        "  except Exception as e:\n",
        "    return f\"오류: {str(e)}\"\n",
        "\n",
        "def write_file(filename, content):\n",
        "  \"\"\"문자열을 파일에 씁니다.\"\"\"\n",
        "  try:\n",
        "    with open(filename, 'w', encoding='utf-8') as f:\n",
        "      f.write(content)\n",
        "      return f\"{filename} 파일이 성공적으로 저장되었습니다.\"\n",
        "  except Exception as e:\n",
        "    return f\"오류: {str(e)}\"\n",
        "\n",
        "def append_file(filename, content):\n",
        "  \"\"\"문자열을 파일에 추가합니다\"\"\"\n",
        "  try:\n",
        "    with open(filename, 'a', encoding='utf-8') as f:\n",
        "      f.write(content)\n",
        "      return f\"{filename} 파일에 성공적으로 추가되었습니다.\"\n",
        "  except Exception as e:\n",
        "      return f\"오류{str(e)}\""
      ],
      "metadata": {
        "colab": {
          "base_uri": "https://localhost:8080/"
        },
        "id": "B313XbQbMg0v",
        "outputId": "f7c7383d-605e-457e-8a53-0e6daadb2b27"
      },
      "execution_count": null,
      "outputs": [
        {
          "output_type": "stream",
          "name": "stdout",
          "text": [
            "Overwriting file_utils.py\n"
          ]
        }
      ]
    },
    {
      "cell_type": "code",
      "source": [
        "from file_utils import write_file, read_file, append_file\n",
        "\n",
        "#파일에 내용 쓰기\n",
        "result = write_file('sample.txt','안녕하세요!\\n 파이썬 모듈 시스템을 배우고 있습니다.')\n",
        "print(result)\n",
        "\n",
        "#파일 내용추가\n",
        "result = append_file('sample.txt', '파일 입출력도 함께 배우고 있어요.\\n')\n",
        "print(result)\n",
        "\n",
        "# 파일 내용 읽기\n",
        "content = read_file('sample.txt')\n",
        "print(\"\\n파일내용:\")\n",
        "print(content)"
      ],
      "metadata": {
        "colab": {
          "base_uri": "https://localhost:8080/"
        },
        "id": "KqNMjFZUQXpo",
        "outputId": "9742e0e0-c2c9-44b4-d25b-f6d831dd5b67"
      },
      "execution_count": null,
      "outputs": [
        {
          "output_type": "stream",
          "name": "stdout",
          "text": [
            "sample.txt 파일이 성공적으로 저장되었습니다.\n",
            "sample.txt 파일에 성공적으로 추가되었습니다.\n",
            "\n",
            "파일내용:\n",
            "안녕하세요!\n",
            " 파이썬 모듈 시스템을 배우고 있습니다.파일 입출력도 함께 배우고 있어요.\n",
            "\n"
          ]
        }
      ]
    },
    {
      "cell_type": "code",
      "source": [
        "%%writefile advanced_module.py\n",
        "\"\"\"이 모듈은 특수 변수와 속성 탐색을 연습하기 위한 모듈입니다.\"\"\"\n",
        "\n",
        "#공개 항목만 정의\n",
        "__all__ = ['add', 'multiply', 'PUBLIC_VALUE']\n",
        "\n",
        "#상수\n",
        "PUBLIC_VALUE = 100\n",
        "_PRIVIT_VALUE = 200 #관례적으로 _ 접두사는 비공개로 간주\n",
        "\n",
        "#함수\n",
        "def add(a, b):\n",
        "  \"\"\"두 수를 더합니다.\"\"\"\n",
        "  return a + b\n",
        "\n",
        "def multiply(a, b):\n",
        "  \"\"\"두 수를 곱합니다.\"\"\"\n",
        "  return a * b\n",
        "def _privit_function():\n",
        "  \"\"\"모듈 내에서만 사용하는 함수입니다.\"\"\"\n",
        "  return \"이 함수는 내부에서만 사용합니다.\"\n",
        "\n",
        "#모듈 실행 시 호출\n",
        "if __name__ == \"__main__\":\n",
        "  print(\"이 모듈이 직접 실행되었습니다.\")\n",
        "else:\n",
        "  print(\"이 모듈이 임포트 되었습니다.\")"
      ],
      "metadata": {
        "colab": {
          "base_uri": "https://localhost:8080/"
        },
        "id": "N9etiKBcZ9s3",
        "outputId": "0414a631-f656-49b7-d603-7864328cc96f"
      },
      "execution_count": null,
      "outputs": [
        {
          "output_type": "stream",
          "name": "stdout",
          "text": [
            "Overwriting advanced_module.py\n"
          ]
        }
      ]
    },
    {
      "cell_type": "code",
      "source": [
        "import advanced_module\n",
        "\n",
        "#모듈 이름\n",
        "print(f\"모듈이름:{advanced_module.__name__}\")\n",
        "#모듈 문서화 문자열\n",
        "print(f\"모듈 문서:{advanced_module.__doc__}\")\n",
        "\n",
        "#모듈 내 속성 목록\n",
        "print(\"\\n모듈 내 모든 속성:\")\n",
        "for name in dir (advanced_module):\n",
        "  if not name.startswith('__'):\n",
        "    print(f\"- name\")\n",
        "\n",
        "#비공개 속성에도 접근 가능(하지만 권장하지 않음)\n",
        "print(f\"\\n비공개 값:{advanced_module._PRIVIT_VALUE}\")\n",
        "print(f\"비공개 함수 호출{advanced_module._privit_function()}\")\n",
        "#함수 독스트링 접근\n",
        "print(f\"\\n함수 독스트링{advanced_module.add.__doc__}\")"
      ],
      "metadata": {
        "colab": {
          "base_uri": "https://localhost:8080/"
        },
        "id": "of6xkF_Ybhz0",
        "outputId": "bf9a4557-9822-434c-83ad-eab05e125172"
      },
      "execution_count": null,
      "outputs": [
        {
          "output_type": "stream",
          "name": "stdout",
          "text": [
            "모듈이름:advanced_module\n",
            "모듈 문서:이 모듈은 특수 변수와 속성 탐색을 연습하기 위한 모듈입니다.\n",
            "\n",
            "모듈 내 모든 속성:\n",
            "- name\n",
            "- name\n",
            "- name\n",
            "- name\n",
            "- name\n",
            "\n",
            "비공개 값:200\n",
            "비공개 함수 호출이 함수는 내부에서만 사용합니다.\n",
            "\n",
            "함수 독스트링두 수를 더합니다.\n"
          ]
        }
      ]
    },
    {
      "cell_type": "code",
      "source": [
        "#from 모듈 import * 사용시 __all__ 영향 확인\n",
        "from advanced_module import *\n",
        "\n",
        "print(f\"PUBLIC_VALUE: {PUBLIC_VALUE}\")\n",
        "print(f\"add(3, 4):{add(3, 4)}\")\n",
        "print(f\"multiply(5, 6):{multiply(5, 6)}\")\n",
        "\n",
        "#이건 오류 발생 - __all_에 포함되지 않음\n",
        "# pritn(_PRIVIT_VALUE) # NameError: name '_PRIVIT_VALUE' is not defined"
      ],
      "metadata": {
        "colab": {
          "base_uri": "https://localhost:8080/"
        },
        "id": "uzgGk0WKdosZ",
        "outputId": "8281dea4-349e-490a-f57b-c5f6033adf01"
      },
      "execution_count": null,
      "outputs": [
        {
          "output_type": "stream",
          "name": "stdout",
          "text": [
            "PUBLIC_VALUE: 100\n",
            "add(3, 4):7\n",
            "multiply(5, 6):30\n"
          ]
        }
      ]
    },
    {
      "cell_type": "code",
      "source": [
        "%%writefile data_analysis.py\n",
        "\"\"\"데이터 분석 유틸리티 모듈\"\"\"\n",
        "\n",
        "def calculate_mean(numbers):\n",
        "  \"\"\"리스트의 평균을 계산합니다.\"\"\"\n",
        "  if not numbers:\n",
        "    return None\n",
        "  return sum(numbers) / len(numbers)\n",
        "\n",
        "def calculate_median(numbers):\n",
        "  \"\"\"리스트의 중앙값을 계산합니다.\"\"\"\n",
        "  if not numbers:\n",
        "    return None\n",
        "  sorted_numbers = sorted(numbers)\n",
        "  n = len(sorted_numbers)\n",
        "  if n % 2 == 0:\n",
        "    return(sorted_numbers[n//2 - 1] + sorted_numbers[n//2]) / 2\n",
        "  else:\n",
        "    return sorted_numbers[n//2]\n",
        "\n",
        "def calculate_variance(numbers):\n",
        "  \"\"\"리스트의 분산을 계산합니다.\"\"\"\n",
        "  if not numbers or len(numbers) < 2:\n",
        "    return None\n",
        "  mean = calculate_mean(numbers)\n",
        "  return sum((x - mean) ** 2 for x in numbers) / len(numbers)\n",
        "\n",
        "def calculate_std_deviation(numbers):\n",
        "    \"\"\"리스트의 표준편차를 계산합니다.\"\"\"\n",
        "    variance = calculate_variance(numbers)\n",
        "    if variance is None:\n",
        "        return None\n",
        "    return variance ** 0.5\n",
        "\n",
        "class DataAnalyzer:\n",
        "\n",
        "  \"\"\"데이터 분석을 위한 클래스\"\"\"\n",
        "  def __init__(self, data):\n",
        "    self.data = data or []\n",
        "\n",
        "  def load_data(self,data):\n",
        "    \"\"\"데이터를 로드합니다.\"\"\"\n",
        "    self.data = data\n",
        "\n",
        "  def get_summary(self):\n",
        "    \"\"\"데이터 요약 통계를 반환합니다.\"\"\"\n",
        "    if not self.data:\n",
        "      return \"데이터가 없습니다.\"\n",
        "\n",
        "    return {\n",
        "        \"개수\":len(self.data),\n",
        "        \"합계\":sum(self.data),\n",
        "        \"평균\":calculate_mean(self.data),\n",
        "        \"중앙값\":calculate_median(self.data),\n",
        "        \"최소값\":min(self.data),\n",
        "        \"최대값\":max(self.data),\n",
        "        \"표준편차\":calculate_std_deviation(self.data)\n",
        "    }\n",
        "\n",
        "  def filter_data(self, condition_func):\n",
        "    \"\"\"조건에 맞는 데이터만 필터링 합니다.\"\"\"\n",
        "    return [item for item in self.data if condition_func(item)]"
      ],
      "metadata": {
        "colab": {
          "base_uri": "https://localhost:8080/"
        },
        "id": "I5KuszEXejfn",
        "outputId": "a6fba182-207a-4ad1-b9b6-3855cb02a02d"
      },
      "execution_count": null,
      "outputs": [
        {
          "output_type": "stream",
          "name": "stdout",
          "text": [
            "Overwriting data_analysis.py\n"
          ]
        }
      ]
    },
    {
      "cell_type": "code",
      "source": [
        "from data_analysis import DataAnalyzer, calculate_mean, calculate_median\n",
        "\n",
        "#데이터 분석 클래스 사용\n",
        "data = [12, 45, 33, 27, 89, 45, 18, 62, 39, 51]\n",
        "analayzer = DataAnalyzer(data)\n",
        "\n",
        "#데이터 요약 통계\n",
        "summary = analayzer.get_summary()\n",
        "print(\"데이터 요약:\")\n",
        "for key, value in summary.items():\n",
        "  print(f\"- {key}: {value}\")\n",
        "\n",
        "#개별 함수 사용\n",
        "print(f\"\\n평균:{calculate_mean(data)}\")\n",
        "print(f\"중앙값:{calculate_median(data)}\")\n",
        "\n",
        "#데이터 필터링\n",
        "filtered_data = analayzer.filter_data(lambda x: x > 40)\n",
        "print(f\"\\n40보다 큰 값: {filtered_data}\")\n",
        "print(f\"필터링된 데이터의 평균: {calculate_mean(filtered_data)}\")"
      ],
      "metadata": {
        "colab": {
          "base_uri": "https://localhost:8080/"
        },
        "id": "hd7giw4zhPMr",
        "outputId": "d031e223-c6cc-4f64-aa47-02c594b5c590"
      },
      "execution_count": null,
      "outputs": [
        {
          "output_type": "stream",
          "name": "stdout",
          "text": [
            "데이터 요약:\n",
            "- 개수: 10\n",
            "- 합계: 421\n",
            "- 평균: 42.1\n",
            "- 중앙값: 42.0\n",
            "- 최소값: 12\n",
            "- 최대값: 89\n",
            "- 표준편차: 21.21061055226841\n",
            "\n",
            "평균:42.1\n",
            "중앙값:42.0\n",
            "\n",
            "40보다 큰 값: [45, 89, 45, 62, 51]\n",
            "필터링된 데이터의 평균: 58.4\n"
          ]
        }
      ]
    }
  ]
}