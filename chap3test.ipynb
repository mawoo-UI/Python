{
  "nbformat": 4,
  "nbformat_minor": 0,
  "metadata": {
    "colab": {
      "provenance": [],
      "authorship_tag": "ABX9TyNCSgmO9LcLH2dmN9Irj7HS",
      "include_colab_link": true
    },
    "kernelspec": {
      "name": "python3",
      "display_name": "Python 3"
    },
    "language_info": {
      "name": "python"
    }
  },
  "cells": [
    {
      "cell_type": "markdown",
      "metadata": {
        "id": "view-in-github",
        "colab_type": "text"
      },
      "source": [
        "<a href=\"https://colab.research.google.com/github/mawoo-UI/Python/blob/main/chap3test.ipynb\" target=\"_parent\"><img src=\"https://colab.research.google.com/assets/colab-badge.svg\" alt=\"Open In Colab\"/></a>"
      ]
    },
    {
      "cell_type": "markdown",
      "source": [
        "# **a는 수강 학점이고 수강학점의 출력하는 코드**"
      ],
      "metadata": {
        "id": "VRyI3vqzzSG5"
      }
    },
    {
      "cell_type": "code",
      "source": [
        "a = 10\n",
        "print(a)"
      ],
      "metadata": {
        "colab": {
          "base_uri": "https://localhost:8080/"
        },
        "id": "bSBFRmPQyqks",
        "outputId": "c4846963-cb6f-45bb-8a8c-f7be62ff61a9"
      },
      "execution_count": null,
      "outputs": [
        {
          "output_type": "stream",
          "name": "stdout",
          "text": [
            "10\n"
          ]
        }
      ]
    },
    {
      "cell_type": "code",
      "source": [
        "3.141592"
      ],
      "metadata": {
        "colab": {
          "base_uri": "https://localhost:8080/"
        },
        "id": "YuQjI7B_IxAi",
        "outputId": "820ec652-2950-43d8-8336-14d9ae69211e"
      },
      "execution_count": null,
      "outputs": [
        {
          "output_type": "execute_result",
          "data": {
            "text/plain": [
              "3.141592"
            ]
          },
          "metadata": {},
          "execution_count": 2
        }
      ]
    },
    {
      "cell_type": "code",
      "source": [
        "\"Computer\""
      ],
      "metadata": {
        "colab": {
          "base_uri": "https://localhost:8080/",
          "height": 35
        },
        "id": "eiHLMtTkI__t",
        "outputId": "fe729ac1-6625-4a6a-f43f-f0e00f329246"
      },
      "execution_count": null,
      "outputs": [
        {
          "output_type": "execute_result",
          "data": {
            "text/plain": [
              "'Computer'"
            ],
            "application/vnd.google.colaboratory.intrinsic+json": {
              "type": "string"
            }
          },
          "metadata": {},
          "execution_count": 3
        }
      ]
    },
    {
      "cell_type": "code",
      "source": [
        "(7+ 15) * 2"
      ],
      "metadata": {
        "colab": {
          "base_uri": "https://localhost:8080/"
        },
        "id": "aNrWaTiqJfDx",
        "outputId": "b4a493c7-2387-4e39-eb2e-c866824ccd13"
      },
      "execution_count": null,
      "outputs": [
        {
          "output_type": "execute_result",
          "data": {
            "text/plain": [
              "44"
            ]
          },
          "metadata": {},
          "execution_count": 5
        }
      ]
    },
    {
      "cell_type": "code",
      "source": [
        "2 ** 10 * 5"
      ],
      "metadata": {
        "colab": {
          "base_uri": "https://localhost:8080/"
        },
        "id": "0hgKlz_tJwhE",
        "outputId": "b2d2aca6-5c93-4d8e-f6c6-e4097eb9d42d"
      },
      "execution_count": null,
      "outputs": [
        {
          "output_type": "execute_result",
          "data": {
            "text/plain": [
              "5120"
            ]
          },
          "metadata": {},
          "execution_count": 6
        }
      ]
    },
    {
      "cell_type": "code",
      "source": [
        "\"computer\" + \"science\""
      ],
      "metadata": {
        "colab": {
          "base_uri": "https://localhost:8080/",
          "height": 35
        },
        "id": "Q0LvNPIXJ7ZI",
        "outputId": "0e984bf0-2163-4bd6-903a-be8af810709b"
      },
      "execution_count": null,
      "outputs": [
        {
          "output_type": "execute_result",
          "data": {
            "text/plain": [
              "'computerscience'"
            ],
            "application/vnd.google.colaboratory.intrinsic+json": {
              "type": "string"
            }
          },
          "metadata": {},
          "execution_count": 7
        }
      ]
    },
    {
      "cell_type": "code",
      "source": [
        "apple = 2\n",
        "banana = 3\n",
        "cranberry = 1\n",
        "detox = (banana ** 2 - 4 * apple * cranberry) //apple\n",
        "print(detox)"
      ],
      "metadata": {
        "colab": {
          "base_uri": "https://localhost:8080/"
        },
        "id": "-QtYduyXD-fl",
        "outputId": "4766d044-59ee-4f24-e748-7c859162cd9b"
      },
      "execution_count": null,
      "outputs": [
        {
          "output_type": "stream",
          "name": "stdout",
          "text": [
            "0\n"
          ]
        }
      ]
    },
    {
      "cell_type": "code",
      "source": [
        "\"computer\" * 2"
      ],
      "metadata": {
        "colab": {
          "base_uri": "https://localhost:8080/",
          "height": 35
        },
        "id": "e4SfqpLoKIP5",
        "outputId": "f515f8bb-1ce4-465b-d323-ae30e6dcb8d7"
      },
      "execution_count": null,
      "outputs": [
        {
          "output_type": "execute_result",
          "data": {
            "text/plain": [
              "'computercomputer'"
            ],
            "application/vnd.google.colaboratory.intrinsic+json": {
              "type": "string"
            }
          },
          "metadata": {},
          "execution_count": 9
        }
      ]
    },
    {
      "cell_type": "code",
      "source": [
        "print(2 * 7)"
      ],
      "metadata": {
        "colab": {
          "base_uri": "https://localhost:8080/"
        },
        "id": "RA1kvWjyKUUY",
        "outputId": "bb7c4f57-2938-463f-c851-99614f24a7ee"
      },
      "execution_count": null,
      "outputs": [
        {
          "output_type": "stream",
          "name": "stdout",
          "text": [
            "14\n"
          ]
        }
      ]
    },
    {
      "cell_type": "code",
      "source": [
        "print(\"Hello World\")\n",
        "print(\"Python is Fun\")"
      ],
      "metadata": {
        "colab": {
          "base_uri": "https://localhost:8080/"
        },
        "id": "mVJH4iVWKZr3",
        "outputId": "9acdbc4c-6b83-4ca5-b7ba-7d6812b3b89c"
      },
      "execution_count": null,
      "outputs": [
        {
          "output_type": "stream",
          "name": "stdout",
          "text": [
            "Hello World\n",
            "Python is Fun\n"
          ]
        }
      ]
    },
    {
      "cell_type": "markdown",
      "source": [
        "학점 계산"
      ],
      "metadata": {
        "id": "TiWFb-ZCLhPp"
      }
    },
    {
      "cell_type": "code",
      "source": [
        "# 학점 계산\n",
        "print((4.5 * 2 + 4.0 * 3) / 2)"
      ],
      "metadata": {
        "colab": {
          "base_uri": "https://localhost:8080/"
        },
        "id": "gR84Gi27K_Jx",
        "outputId": "69243657-47f7-45b5-c47b-7328d560a9af"
      },
      "execution_count": null,
      "outputs": [
        {
          "output_type": "stream",
          "name": "stdout",
          "text": [
            "10.5\n"
          ]
        }
      ]
    },
    {
      "cell_type": "code",
      "source": [
        "#반지름 20, 높이 30\n",
        "#부피 출력\n",
        "print(1 / 3 * 3.14 * 20 ** 2 * 30)\n",
        "#겉넓이 출력\n",
        "print(3.14 * 20 ** 2 + 3.14 * 20 * 30)"
      ],
      "metadata": {
        "colab": {
          "base_uri": "https://localhost:8080/"
        },
        "id": "TkmARR0ZMMxi",
        "outputId": "a3a0787b-0db3-40b2-d971-f0b6af9f5863"
      },
      "execution_count": null,
      "outputs": [
        {
          "output_type": "stream",
          "name": "stdout",
          "text": [
            "12559.999999999998\n",
            "3140.0\n"
          ]
        }
      ]
    },
    {
      "cell_type": "code",
      "source": [
        "#반지름, 높이 값 할당\n",
        "red = 40\n",
        "hei = 10\n",
        "\n",
        "#부피 출력\n",
        "print(1 / 3 * 3.14 * red ** 2 * hei)\n",
        "#겉넓이 출력\n",
        "print(3.14 * red ** 2 + 3.14 * red * hei)"
      ],
      "metadata": {
        "colab": {
          "base_uri": "https://localhost:8080/"
        },
        "id": "yCu5JKBlMV7-",
        "outputId": "be8b3cd0-d3d3-4d86-bbc2-53763ae92ec2"
      },
      "execution_count": null,
      "outputs": [
        {
          "output_type": "stream",
          "name": "stdout",
          "text": [
            "16746.666666666664\n",
            "6280.0\n"
          ]
        }
      ]
    },
    {
      "cell_type": "code",
      "source": [
        "5 /2"
      ],
      "metadata": {
        "colab": {
          "base_uri": "https://localhost:8080/"
        },
        "id": "gJgX7fa2QUj8",
        "outputId": "88cedf71-94a2-4557-c24b-b56c97cff11c"
      },
      "execution_count": null,
      "outputs": [
        {
          "output_type": "execute_result",
          "data": {
            "text/plain": [
              "2.5"
            ]
          },
          "metadata": {},
          "execution_count": 25
        }
      ]
    },
    {
      "cell_type": "code",
      "source": [
        "5 // 2"
      ],
      "metadata": {
        "colab": {
          "base_uri": "https://localhost:8080/"
        },
        "id": "uG2u6Yo1Ta0u",
        "outputId": "3aef3014-b1a0-424b-eea9-dd64555d1715"
      },
      "execution_count": null,
      "outputs": [
        {
          "output_type": "execute_result",
          "data": {
            "text/plain": [
              "2"
            ]
          },
          "metadata": {},
          "execution_count": 26
        }
      ]
    },
    {
      "cell_type": "code",
      "source": [
        "25 % 7"
      ],
      "metadata": {
        "colab": {
          "base_uri": "https://localhost:8080/"
        },
        "id": "cTYDReXCTdEQ",
        "outputId": "528aec6a-2585-4016-8a65-0de6cb94b9f6"
      },
      "execution_count": null,
      "outputs": [
        {
          "output_type": "execute_result",
          "data": {
            "text/plain": [
              "4"
            ]
          },
          "metadata": {},
          "execution_count": 29
        }
      ]
    },
    {
      "cell_type": "code",
      "source": [
        "8.4 % 0.9"
      ],
      "metadata": {
        "colab": {
          "base_uri": "https://localhost:8080/"
        },
        "id": "VY_Y8HnqTmtX",
        "outputId": "b9bb7d42-b2f9-47ce-ef6f-9d8383497046"
      },
      "execution_count": null,
      "outputs": [
        {
          "output_type": "execute_result",
          "data": {
            "text/plain": [
              "0.30000000000000016"
            ]
          },
          "metadata": {},
          "execution_count": 33
        }
      ]
    },
    {
      "cell_type": "code",
      "source": [
        "number = 9\n",
        "number % 2"
      ],
      "metadata": {
        "colab": {
          "base_uri": "https://localhost:8080/"
        },
        "id": "Ix7mitJbTwFA",
        "outputId": "0cb13464-d99b-4a50-c415-77f8e8530786"
      },
      "execution_count": null,
      "outputs": [
        {
          "output_type": "execute_result",
          "data": {
            "text/plain": [
              "1"
            ]
          },
          "metadata": {},
          "execution_count": 35
        }
      ]
    },
    {
      "cell_type": "code",
      "source": [
        "max(2, 3, 4)"
      ],
      "metadata": {
        "colab": {
          "base_uri": "https://localhost:8080/"
        },
        "id": "QQaON5PpUFXE",
        "outputId": "efa73990-991c-4511-93db-79a8a302b5c3"
      },
      "execution_count": null,
      "outputs": [
        {
          "output_type": "execute_result",
          "data": {
            "text/plain": [
              "4"
            ]
          },
          "metadata": {},
          "execution_count": 36
        }
      ]
    },
    {
      "cell_type": "code",
      "source": [
        "min(2, 3, 4)"
      ],
      "metadata": {
        "colab": {
          "base_uri": "https://localhost:8080/"
        },
        "id": "QmCc0KnYUIOP",
        "outputId": "c00da2f7-950a-4808-dc1a-e1de2b1a7d09"
      },
      "execution_count": null,
      "outputs": [
        {
          "output_type": "execute_result",
          "data": {
            "text/plain": [
              "2"
            ]
          },
          "metadata": {},
          "execution_count": 37
        }
      ]
    },
    {
      "cell_type": "code",
      "source": [
        "round(3.14)"
      ],
      "metadata": {
        "colab": {
          "base_uri": "https://localhost:8080/"
        },
        "id": "0Q8FCGKpUKMs",
        "outputId": "5a4cb861-45fd-4433-da79-522f096e76af"
      },
      "execution_count": null,
      "outputs": [
        {
          "output_type": "execute_result",
          "data": {
            "text/plain": [
              "3"
            ]
          },
          "metadata": {},
          "execution_count": 1
        }
      ]
    },
    {
      "cell_type": "code",
      "source": [
        "#앱솔루트(절대값)\n",
        "abs(-3)"
      ],
      "metadata": {
        "colab": {
          "base_uri": "https://localhost:8080/"
        },
        "id": "XZb1q2psUMUC",
        "outputId": "0aa80772-1999-4b70-f11e-24142dca807e"
      },
      "execution_count": null,
      "outputs": [
        {
          "output_type": "execute_result",
          "data": {
            "text/plain": [
              "3"
            ]
          },
          "metadata": {},
          "execution_count": 1
        }
      ]
    },
    {
      "cell_type": "code",
      "source": [
        "#2의 3승(지수)\n",
        "pow(2, 3)"
      ],
      "metadata": {
        "colab": {
          "base_uri": "https://localhost:8080/"
        },
        "id": "5HYlN2WmUSX9",
        "outputId": "1cfe8d30-e6f9-4cf5-cab2-8db782c4cfa6"
      },
      "execution_count": null,
      "outputs": [
        {
          "output_type": "execute_result",
          "data": {
            "text/plain": [
              "8"
            ]
          },
          "metadata": {},
          "execution_count": 40
        }
      ]
    },
    {
      "cell_type": "code",
      "source": [
        "print(\"   *\")\n",
        "print(\"  ***\")\n",
        "print(\" *****\")\n",
        "print(\"*******\")"
      ],
      "metadata": {
        "colab": {
          "base_uri": "https://localhost:8080/"
        },
        "id": "nu_vM-k0UVEb",
        "outputId": "1083367c-a30c-4c5f-d3f9-30005ebb7b9a"
      },
      "execution_count": null,
      "outputs": [
        {
          "output_type": "stream",
          "name": "stdout",
          "text": [
            "   *\n",
            "  ***\n",
            " *****\n",
            "*******\n"
          ]
        }
      ]
    },
    {
      "cell_type": "code",
      "source": [
        "input()"
      ],
      "metadata": {
        "colab": {
          "base_uri": "https://localhost:8080/",
          "height": 53
        },
        "id": "NfFSjK3ErcYk",
        "outputId": "22e2c05f-c1da-428a-d1da-efcf26e9e2fc"
      },
      "execution_count": null,
      "outputs": [
        {
          "name": "stdout",
          "output_type": "stream",
          "text": [
            "30\n"
          ]
        },
        {
          "output_type": "execute_result",
          "data": {
            "text/plain": [
              "'30'"
            ],
            "application/vnd.google.colaboratory.intrinsic+json": {
              "type": "string"
            }
          },
          "metadata": {},
          "execution_count": 13
        }
      ]
    },
    {
      "cell_type": "code",
      "source": [
        "rad = input(\"반지름의 값을 입력하세요: \")"
      ],
      "metadata": {
        "colab": {
          "base_uri": "https://localhost:8080/"
        },
        "id": "7Pj8h7Qwr7OM",
        "outputId": "51d01946-6ca0-4cb0-e1ad-32491c40215c"
      },
      "execution_count": null,
      "outputs": [
        {
          "name": "stdout",
          "output_type": "stream",
          "text": [
            "반지름의 값을 입력하세요: 30\n"
          ]
        }
      ]
    },
    {
      "cell_type": "markdown",
      "source": [
        "문자열-> 숫자로 변환"
      ],
      "metadata": {
        "id": "gtSwgO_Hyznf"
      }
    },
    {
      "cell_type": "code",
      "source": [
        "#반지름. 높이 값 할당\n",
        "rad = int(input(\"반지름의 값을 입력하세요: \"))\n",
        "hei = int(input(\"높이 값을 입력하세요: \"))\n",
        "#부피& 겉넓이 계산\n",
        "vol = 1/3 * 3.14 * rad ** 2 * hei\n",
        "suf = 3.14 * rad ** 2 + 3.14 * rad * hei\n",
        "print(vol)\n",
        "print(suf)"
      ],
      "metadata": {
        "colab": {
          "base_uri": "https://localhost:8080/"
        },
        "id": "mbpXnPjnsZOp",
        "outputId": "23cf08fc-a603-4646-bb62-92059c77d42d"
      },
      "execution_count": null,
      "outputs": [
        {
          "output_type": "stream",
          "name": "stdout",
          "text": [
            "반지름의 값을 입력하세요: 20\n",
            "높이 값을 입력하세요: 0\n",
            "0.0\n",
            "1256.0\n"
          ]
        }
      ]
    },
    {
      "cell_type": "markdown",
      "source": [
        "동일값"
      ],
      "metadata": {
        "id": "D9pkyK-lzxN6"
      }
    },
    {
      "cell_type": "code",
      "source": [
        "#반지름. 높이 값 할당\n",
        "rad = int(input(\"반지름의 값을 입력하세요: \"))\n",
        "hei = int(input(\"높이 값을 입력하세요: \"))\n",
        "#부피& 겉넓이 계산\n",
        "print(\"부피의 값은 \",  1/3 * 3.14 * rad ** 2 * hei, \"입니다.\", sep=\"\")\n",
        "print(\"겉넓이의 값은 \", 3.14 * rad ** 2 + 3.14 * rad * hei, \"입니다.\", sep=\"\")\n"
      ],
      "metadata": {
        "colab": {
          "base_uri": "https://localhost:8080/"
        },
        "id": "M4yIMNR_zj1f",
        "outputId": "12b3574f-c7f8-40bc-ef5e-1d596446b490"
      },
      "execution_count": null,
      "outputs": [
        {
          "output_type": "stream",
          "name": "stdout",
          "text": [
            "반지름의 값을 입력하세요: 30\n",
            "높이 값을 입력하세요: 50\n",
            "부피의 값은 47100.0입니다.\n",
            "겉넓이의 값은 7536.0입니다.\n"
          ]
        }
      ]
    },
    {
      "cell_type": "markdown",
      "source": [
        "선택구조"
      ],
      "metadata": {
        "id": "l_4bXvPdyzFp"
      }
    },
    {
      "cell_type": "code",
      "source": [
        "3 == 6"
      ],
      "metadata": {
        "id": "0dOTFq0SsdAp",
        "colab": {
          "base_uri": "https://localhost:8080/"
        },
        "outputId": "c1eb90bb-d969-49e6-8aa1-d3f23be1e5b3"
      },
      "execution_count": null,
      "outputs": [
        {
          "output_type": "execute_result",
          "data": {
            "text/plain": [
              "True"
            ]
          },
          "metadata": {},
          "execution_count": 3
        }
      ]
    },
    {
      "cell_type": "code",
      "source": [
        "rad = 10\n",
        "\n",
        "rad == 10"
      ],
      "metadata": {
        "colab": {
          "base_uri": "https://localhost:8080/"
        },
        "id": "hdz7qNmqOnN8",
        "outputId": "39691579-4ab0-4fcd-f262-4c49dc816e72"
      },
      "execution_count": null,
      "outputs": [
        {
          "output_type": "execute_result",
          "data": {
            "text/plain": [
              "True"
            ]
          },
          "metadata": {},
          "execution_count": 6
        }
      ]
    },
    {
      "cell_type": "code",
      "source": [
        "light_on = 3 > 6\n",
        "print(light_on)"
      ],
      "metadata": {
        "colab": {
          "base_uri": "https://localhost:8080/"
        },
        "id": "fMPuYMx5O1iW",
        "outputId": "7bcb3216-e8e6-4182-f357-bdae8d9dff2e"
      },
      "execution_count": null,
      "outputs": [
        {
          "output_type": "stream",
          "name": "stdout",
          "text": [
            "False\n"
          ]
        }
      ]
    },
    {
      "cell_type": "code",
      "source": [
        "suf = 10\n",
        "vol = 20\n",
        "isStop = suf == vol\n",
        "print(isStop)"
      ],
      "metadata": {
        "colab": {
          "base_uri": "https://localhost:8080/"
        },
        "id": "BQPsrmriO-bC",
        "outputId": "eae71041-8c31-4247-b59b-ddab64859238"
      },
      "execution_count": null,
      "outputs": [
        {
          "output_type": "stream",
          "name": "stdout",
          "text": [
            "False\n"
          ]
        }
      ]
    },
    {
      "cell_type": "markdown",
      "source": [
        "if 조건했을때 값이 안맞으면 실행안"
      ],
      "metadata": {
        "id": "rtFsv3dDQOvK"
      }
    },
    {
      "cell_type": "code",
      "source": [
        "#반지름. 높이 값 할당\n",
        "rad = int(input(\"반지름의 값을 입력하세요: \"))\n",
        "hei = int(input(\"높이 값을 입력하세요: \"))\n",
        "\n",
        "if rad > 0 :\n",
        "\n",
        "    #부피& 겉넓이 계산\n",
        "    vol = 1/3 * 3.14 * rad ** 2 * hei\n",
        "    suf = 3.14 * rad ** 2 + 3.14 * rad * hei\n",
        "    print(\"원뿔의 부피는 \" , vol, \"입니다.\")\n",
        "    print(\"겉넓이의 값은 \", suf, \"입니다.\")\n"
      ],
      "metadata": {
        "colab": {
          "base_uri": "https://localhost:8080/"
        },
        "id": "jqB22Xz3PMX9",
        "outputId": "04f13a16-efdb-4c20-f1e1-6240f1be60d5"
      },
      "execution_count": null,
      "outputs": [
        {
          "name": "stdout",
          "output_type": "stream",
          "text": [
            "반지름의 값을 입력하세요: -20\n",
            "높이 값을 입력하세요: 30\n"
          ]
        }
      ]
    },
    {
      "cell_type": "code",
      "source": [
        "temp = 20\n",
        "fruit = \"apple\"\n",
        "\n",
        "print(temp <= 27 or fruit == \"pear\")"
      ],
      "metadata": {
        "colab": {
          "base_uri": "https://localhost:8080/"
        },
        "id": "MmYMtT2XS_YX",
        "outputId": "fb5047ff-4726-4785-ffeb-8f8526d2f42d"
      },
      "execution_count": null,
      "outputs": [
        {
          "output_type": "stream",
          "name": "stdout",
          "text": [
            "True\n"
          ]
        }
      ]
    },
    {
      "cell_type": "code",
      "source": [
        "temp = 20\n",
        "fruit = \"apple\"\n",
        "\n",
        "print(not temp <= 27 )"
      ],
      "metadata": {
        "colab": {
          "base_uri": "https://localhost:8080/"
        },
        "id": "pO2fBxp_Ta7Y",
        "outputId": "fd5043b9-d2dd-49ec-9c07-4fcc66799379"
      },
      "execution_count": null,
      "outputs": [
        {
          "output_type": "stream",
          "name": "stdout",
          "text": [
            "False\n"
          ]
        }
      ]
    },
    {
      "cell_type": "code",
      "source": [
        "#반지름. 높이 값 할당\n",
        "rad = int(input(\"반지름의 값을 입력하세요: \"))\n",
        "hei = int(input(\"높이 값을 입력하세요: \"))\n",
        "\n",
        "if rad > 0 and hei > 0:  ##조건식\n",
        "\n",
        "    #부피& 겉넓이 계산\n",
        "    vol = 1/3 * 3.14 * rad ** 2 * hei\n",
        "    suf = 3.14 * rad ** 2 + 3.14 * rad * hei\n",
        "    print(\"원뿔의 부피는 \" , vol, \"입니다.\")\n",
        "    print(\"겉넓이의 값은 \", suf, \"입니다.\")"
      ],
      "metadata": {
        "colab": {
          "base_uri": "https://localhost:8080/"
        },
        "id": "JCYNHwdGTmkG",
        "outputId": "6d0f9a84-11f9-4d70-9110-3808b4875aac"
      },
      "execution_count": null,
      "outputs": [
        {
          "name": "stdout",
          "output_type": "stream",
          "text": [
            "반지름의 값을 입력하세요: 20\n",
            "높이 값을 입력하세요: -30\n"
          ]
        }
      ]
    },
    {
      "cell_type": "code",
      "source": [
        "#반지름. 높이 값 할당\n",
        "rad = int(input(\"반지름의 값을 입력하세요: \"))\n",
        "hei = int(input(\"높이 값을 입력하세요: \"))\n",
        "\n",
        "if rad > 0 and hei > 0:  ##조건식\n",
        "\n",
        "    #부피& 겉넓이 계산\n",
        "    vol = 1/3 * 3.14 * rad ** 2 * hei\n",
        "    suf = 3.14 * rad ** 2 + 3.14 * rad * hei\n",
        "    print(\"원뿔의 부피는 \" , vol, \"입니다.\")\n",
        "    print(\"겉넓이의 값은 \", suf, \"입니다.\")\n",
        "else :\n",
        "    print(\":반지름과 높이의 값을 모두 양수로 입력해주세요\")"
      ],
      "metadata": {
        "colab": {
          "base_uri": "https://localhost:8080/"
        },
        "id": "0s_0hOMPWwEq",
        "outputId": "bf3a83a8-8efb-44a7-a03f-597d04cc881a"
      },
      "execution_count": null,
      "outputs": [
        {
          "output_type": "stream",
          "name": "stdout",
          "text": [
            "반지름의 값을 입력하세요: 10\n",
            "높이 값을 입력하세요: -20\n",
            ":반지름과 높이의 값을 모두 양수로 입력해주세요\n"
          ]
        }
      ]
    },
    {
      "cell_type": "markdown",
      "source": [
        "가장 큰 수 찾는 프로그램"
      ],
      "metadata": {
        "id": "IxFCUdAwXZyv"
      }
    },
    {
      "cell_type": "code",
      "source": [
        "#A, B, C 사용자 입력\n",
        "A = int(input(\"A 입력: \"))\n",
        "B = int(input(\"B 입력: \"))\n",
        "C = int(input(\"C 입력: \"))\n",
        "\n",
        "#A, B, C 중 가장 큰 수 출력\n",
        "# max(A, B, C)\n",
        "if A > B :\n",
        "  if A > C:\n",
        "    print(\"A:\", A)\n",
        "  else :\n",
        "    print(\"C:\", C)\n",
        "else :\n",
        "    if B > C :\n",
        "      print(\"B:\", B)\n",
        "    else :\n",
        "      print(\"C:\", C)"
      ],
      "metadata": {
        "colab": {
          "base_uri": "https://localhost:8080/"
        },
        "id": "FPfD9FbEXGwB",
        "outputId": "2ce70f8f-8ee7-41e1-c583-f88556760130"
      },
      "execution_count": null,
      "outputs": [
        {
          "output_type": "stream",
          "name": "stdout",
          "text": [
            "A 입력: 30\n",
            "B 입력: 20\n",
            "C 입력: 50\n",
            "C: 50\n"
          ]
        }
      ]
    },
    {
      "cell_type": "code",
      "source": [
        "for i in range(1, 11) :\n",
        "  print(i, end = \" \")"
      ],
      "metadata": {
        "colab": {
          "base_uri": "https://localhost:8080/"
        },
        "id": "x2eknCU0zIFI",
        "outputId": "14051f84-ffd1-4c73-9d2b-af16e07a45e5"
      },
      "execution_count": null,
      "outputs": [
        {
          "output_type": "stream",
          "name": "stdout",
          "text": [
            "1 2 3 4 5 6 7 8 9 10 "
          ]
        }
      ]
    },
    {
      "cell_type": "markdown",
      "source": [
        "count +1 이 되지않으면 무한반복/5까지만 출력하도록 설정하는과정임"
      ],
      "metadata": {
        "id": "h4Egwr090WI7"
      }
    },
    {
      "cell_type": "code",
      "source": [
        "msg = \"저는 파이썬을 잘 다룰 수 있습니다.\"\n",
        "count =1\n",
        "while  count <= 5 :\n",
        "  print(msg)\n",
        "  count = count + 1"
      ],
      "metadata": {
        "colab": {
          "base_uri": "https://localhost:8080/"
        },
        "id": "r1nZy9ArzhrY",
        "outputId": "2f1439f1-0c19-4995-8437-fdc7c9edd450"
      },
      "execution_count": null,
      "outputs": [
        {
          "output_type": "stream",
          "name": "stdout",
          "text": [
            "저는 파이썬을 잘 다룰 수 있습니다.\n",
            "저는 파이썬을 잘 다룰 수 있습니다.\n",
            "저는 파이썬을 잘 다룰 수 있습니다.\n",
            "저는 파이썬을 잘 다룰 수 있습니다.\n",
            "저는 파이썬을 잘 다룰 수 있습니다.\n"
          ]
        }
      ]
    },
    {
      "cell_type": "code",
      "source": [
        "num = int(input(\"어디까지 더할까요?\"))\n",
        "sum = 0\n",
        "i = 1\n",
        "while i <= num:\n",
        "  sum = sum + i\n",
        "  i = i + 1\n",
        "  print(sum)"
      ],
      "metadata": {
        "colab": {
          "base_uri": "https://localhost:8080/"
        },
        "id": "bIw25Lmt1AlT",
        "outputId": "89a55282-a205-451c-f0e7-b11e742a86a5"
      },
      "execution_count": null,
      "outputs": [
        {
          "output_type": "stream",
          "name": "stdout",
          "text": [
            "어디까지 더할까요?10\n",
            "1\n",
            "3\n",
            "6\n",
            "10\n",
            "15\n",
            "21\n",
            "28\n",
            "36\n",
            "45\n",
            "55\n"
          ]
        }
      ]
    },
    {
      "cell_type": "markdown",
      "source": [
        "구구단"
      ],
      "metadata": {
        "id": "ksuNBzSz3tuK"
      }
    },
    {
      "cell_type": "code",
      "source": [
        "base = int(input(\"출력할 단을 입력하세요: \"))\n",
        "\n",
        "i = 1\n",
        "while i <= 9:\n",
        "  print(base, \"X\" , i, \"=\", base * i)\n",
        "  i = i + 1"
      ],
      "metadata": {
        "colab": {
          "base_uri": "https://localhost:8080/"
        },
        "id": "w0lGh7lo3I1y",
        "outputId": "979d5b3e-c99d-43b2-8674-cd837b43fb7c"
      },
      "execution_count": null,
      "outputs": [
        {
          "output_type": "stream",
          "name": "stdout",
          "text": [
            "출력할 단을 입력하세요: 6\n",
            "6 X 1 = 6\n",
            "6 X 2 = 12\n",
            "6 X 3 = 18\n",
            "6 X 4 = 24\n",
            "6 X 5 = 30\n",
            "6 X 6 = 36\n",
            "6 X 7 = 42\n",
            "6 X 8 = 48\n",
            "6 X 9 = 54\n"
          ]
        }
      ]
    },
    {
      "cell_type": "markdown",
      "source": [
        "리스트"
      ],
      "metadata": {
        "id": "g1hCBel13zbT"
      }
    },
    {
      "cell_type": "code",
      "source": [
        "hei_list = [1, 5, 14, 26,31]\n",
        "for hei in hei_list :\n",
        "  print(hei)"
      ],
      "metadata": {
        "colab": {
          "base_uri": "https://localhost:8080/"
        },
        "id": "IXmaxiAX4oE_",
        "outputId": "20fbf18e-dccf-464d-c9dc-55c13aa6dea5"
      },
      "execution_count": null,
      "outputs": [
        {
          "output_type": "stream",
          "name": "stdout",
          "text": [
            "1\n",
            "5\n",
            "14\n",
            "25\n",
            "31\n"
          ]
        }
      ]
    },
    {
      "cell_type": "code",
      "source": [
        "#반지름. 높이 값 할당\n",
        "rad = 10\n",
        "hei_list = [1, 5, 14, 26,31]\n",
        "\n",
        "for hei in hei_list :\n",
        "    #부피& 겉넓이 계산\n",
        "    vol = 1/3 * 3.14 * rad ** 2 * hei\n",
        "    suf = 3.14 * rad ** 2 + 3.14 * rad * hei\n",
        "    print(\"반지름\", rad, \"높이\", hei, \"원뿔\")\n",
        "    print(\"원뿔의 부피는 \" , vol, \"입니다.\")\n",
        "    print(\"겉넓이의 값은 \", suf, \"입니다.\")\n"
      ],
      "metadata": {
        "colab": {
          "base_uri": "https://localhost:8080/"
        },
        "id": "CS3uyTUC3vnM",
        "outputId": "7fd977a4-70e6-455c-f170-a2c444512887"
      },
      "execution_count": null,
      "outputs": [
        {
          "output_type": "stream",
          "name": "stdout",
          "text": [
            "반지름 10 높이 1 원뿔\n",
            "원뿔의 부피는  104.66666666666666 입니다.\n",
            "겉넓이의 값은  345.4 입니다.\n",
            "반지름 10 높이 5 원뿔\n",
            "원뿔의 부피는  523.3333333333333 입니다.\n",
            "겉넓이의 값은  471.0 입니다.\n",
            "반지름 10 높이 14 원뿔\n",
            "원뿔의 부피는  1465.3333333333333 입니다.\n",
            "겉넓이의 값은  753.6 입니다.\n",
            "반지름 10 높이 26 원뿔\n",
            "원뿔의 부피는  2721.333333333333 입니다.\n",
            "겉넓이의 값은  1130.4 입니다.\n",
            "반지름 10 높이 31 원뿔\n",
            "원뿔의 부피는  3244.6666666666665 입니다.\n",
            "겉넓이의 값은  1287.4 입니다.\n"
          ]
        }
      ]
    },
    {
      "cell_type": "code",
      "source": [
        "#반지름. 높이 값 할당\n",
        "rad_list = range(10, 31, 10)\n",
        "hei_list = [1, 5, 14, 26,31]\n",
        "\n",
        "for rad, hei in zip(rad_list, hei_list) :\n",
        "    #부피& 겉넓이 계산\n",
        "    vol = 1/3 * 3.14 * rad ** 2 * hei\n",
        "    suf = 3.14 * rad ** 2 + 3.14 * rad * hei\n",
        "    print(\"반지름\", rad, \"높이\", hei, \"원뿔\")\n",
        "    print(\"원뿔의 부피는 \" , vol, \"입니다.\")\n",
        "    print(\"겉넓이의 값은 \", suf, \"입니다.\")\n"
      ],
      "metadata": {
        "colab": {
          "base_uri": "https://localhost:8080/"
        },
        "id": "GQZMF5KD-VcJ",
        "outputId": "97916d4f-62a1-4ab2-9be6-06492198b4e6"
      },
      "execution_count": null,
      "outputs": [
        {
          "output_type": "stream",
          "name": "stdout",
          "text": [
            "반지름 10 높이 1 원뿔\n",
            "원뿔의 부피는  104.66666666666666 입니다.\n",
            "겉넓이의 값은  345.4 입니다.\n",
            "반지름 20 높이 5 원뿔\n",
            "원뿔의 부피는  2093.333333333333 입니다.\n",
            "겉넓이의 값은  1570.0 입니다.\n",
            "반지름 30 높이 14 원뿔\n",
            "원뿔의 부피는  13188.0 입니다.\n",
            "겉넓이의 값은  4144.8 입니다.\n"
          ]
        }
      ]
    },
    {
      "cell_type": "code",
      "source": [
        "print(format(\"구구단표\",\">20s\"))\n",
        "\n",
        "#표 머리 출력\n",
        "print(\"  |\", end = \"\")\n",
        "for j in range(1,10):\n",
        "  print(\"  \", j, end = \"\")\n",
        "#새로운 행 삽입\n",
        "print()\n",
        "print(\"----------------------------------------\")\n",
        "\n",
        "#구구단 표 출력\n",
        "\n",
        "for i in range(1, 10, 1) :\n",
        "  print(i, \"|\", end = \"\")\n",
        "  for j in range(1, 10, ) :\n",
        "    print(format(i * j,\">4d\"), end  = \"\")\n",
        "  print()"
      ],
      "metadata": {
        "colab": {
          "base_uri": "https://localhost:8080/"
        },
        "id": "2yXdTxMgAdYa",
        "outputId": "85275e05-c16d-4b4e-a39b-286f621b84a6"
      },
      "execution_count": null,
      "outputs": [
        {
          "output_type": "stream",
          "name": "stdout",
          "text": [
            "                구구단표\n",
            "  |   1   2   3   4   5   6   7   8   9\n",
            "----------------------------------------\n",
            "1 |   1   2   3   4   5   6   7   8   9\n",
            "2 |   2   4   6   8  10  12  14  16  18\n",
            "3 |   3   6   9  12  15  18  21  24  27\n",
            "4 |   4   8  12  16  20  24  28  32  36\n",
            "5 |   5  10  15  20  25  30  35  40  45\n",
            "6 |   6  12  18  24  30  36  42  48  54\n",
            "7 |   7  14  21  28  35  42  49  56  63\n",
            "8 |   8  16  24  32  40  48  56  64  72\n",
            "9 |   9  18  27  36  45  54  63  72  81\n"
          ]
        }
      ]
    },
    {
      "cell_type": "code",
      "source": [
        "def prt_cone_vol(r, h) :\n",
        "  # r, h 모두 양수일 때\n",
        "  if r > 0 and h > 0 :\n",
        "    vol = 1/3 * 3.14 * r ** 2 * h\n",
        "    print(\"원뿔의 부피: \", vol , \"입니다\")\n",
        "  # r, h가 음수일 때\n",
        "  else :\n",
        "    print(\"반지름의 높이 값에 양수를 입력하세요\")"
      ],
      "metadata": {
        "id": "fBi4cOnfD2Am"
      },
      "execution_count": null,
      "outputs": []
    },
    {
      "cell_type": "markdown",
      "source": [
        "원뿔 부피 계산 함수 호출"
      ],
      "metadata": {
        "id": "6JX1TWZuvrHA"
      }
    },
    {
      "cell_type": "code",
      "source": [
        "radius = 20\n",
        "height = 30\n",
        "\n",
        "prt_cone_vol(radius, height)"
      ],
      "metadata": {
        "colab": {
          "base_uri": "https://localhost:8080/"
        },
        "id": "Jo2wz8P1vqwB",
        "outputId": "c4a0549d-bee7-4562-bace-88e062006773"
      },
      "execution_count": null,
      "outputs": [
        {
          "output_type": "stream",
          "name": "stdout",
          "text": [
            "원뿔의 부피:  12399.999999999998 입니다\n"
          ]
        }
      ]
    },
    {
      "cell_type": "markdown",
      "source": [
        "역순 정렬"
      ],
      "metadata": {
        "id": "pnwgaFRxw134"
      }
    },
    {
      "cell_type": "code",
      "source": [
        "\n",
        "num = 1234\n",
        "\n",
        "def reverse_number(num) :\n",
        "  while num != 0 :\n",
        "    digit = num % 10\n",
        "    num = num // 10\n",
        "    print(digit, end=\"\") #end=\"\"를 했을때 다 붙여서 출력\n",
        "reverse_number (num)"
      ],
      "metadata": {
        "colab": {
          "base_uri": "https://localhost:8080/"
        },
        "id": "bI9ALTtdv91I",
        "outputId": "127bb703-6ab2-418c-b056-a47b9e4bb0f1"
      },
      "execution_count": null,
      "outputs": [
        {
          "output_type": "stream",
          "name": "stdout",
          "text": [
            "4321"
          ]
        }
      ]
    },
    {
      "cell_type": "code",
      "source": [
        "\n",
        "digits = 34567\n",
        "\n",
        "def reverse_number(num) :\n",
        "  while num != 0 :\n",
        "    digit = num % 10\n",
        "    num = num // 10\n",
        "    print(digit, end=\"\")\n",
        "reverse_number (765)"
      ],
      "metadata": {
        "colab": {
          "base_uri": "https://localhost:8080/"
        },
        "id": "-yjYyeOtxM1f",
        "outputId": "255d782f-b552-448f-8286-9f9e0ea265e5"
      },
      "execution_count": null,
      "outputs": [
        {
          "output_type": "stream",
          "name": "stdout",
          "text": [
            "567"
          ]
        }
      ]
    },
    {
      "cell_type": "code",
      "source": [
        "def rtn_cone_vol(r, h) :\n",
        "  # r, h 모두 양수일 때\n",
        "  if r > 0 and h > 0 :\n",
        "    vol = 1/3 * 3.14 * r ** 2 * h\n",
        "    return vol\n",
        "\n",
        "  # r, h가 음수일 때\n",
        "  else :\n",
        "    print(\"반지름의 높이 값에 양수를 입력하세요\")\n",
        "\n",
        "print(format(rtn_cone_vol(10, 20), \">20.3f\"), \"입니다. \")"
      ],
      "metadata": {
        "colab": {
          "base_uri": "https://localhost:8080/"
        },
        "id": "Zr98b31jx8Jn",
        "outputId": "facf4e2c-67e5-4e08-b40e-6b77a8ce7768"
      },
      "execution_count": null,
      "outputs": [
        {
          "output_type": "stream",
          "name": "stdout",
          "text": [
            "            2093.333 입니다. \n"
          ]
        }
      ]
    },
    {
      "cell_type": "code",
      "source": [
        "def rtn_cone_vol_surf(r, h) :\n",
        "  # r, h 모두 양수일 때\n",
        "  if r > 0 and h > 0 :\n",
        "    vol = 1/3 * 3.14 * r ** 2 * h\n",
        "    surf = 3.14 * r ** 2 + 3.14 * r * h\n",
        "    return vol , surf\n",
        "\n",
        "  # r, h가 음수일 때\n",
        "  else :\n",
        "    print(\"반지름의 높이 값에 양수를 입력하세요\")\n",
        "vol1, surf1 =rtn_cone_vol_surf(50,100)\n",
        "print(vol1, \"입니다.\")\n",
        "print(surf1, \"입니다.\")\n",
        "#print(rtn_cone_vol_surf(50, 100)) #, \">20.3f\"), \"입니다. \")"
      ],
      "metadata": {
        "colab": {
          "base_uri": "https://localhost:8080/"
        },
        "id": "qTkB8JYaz2vv",
        "outputId": "9634e097-f1c2-4964-f909-0310b509d3be"
      },
      "execution_count": null,
      "outputs": [
        {
          "output_type": "stream",
          "name": "stdout",
          "text": [
            "261666.66666666666 입니다.\n",
            "23550.0 입니다.\n"
          ]
        }
      ]
    },
    {
      "cell_type": "code",
      "source": [
        "#A, B, C 사용자 입력\n",
        "a = int(input(\"첫번째 숫자를 입력 하세요: \"))\n",
        "b = int(input(\"첫번째 숫자를 입력 하세요: \"))\n",
        "c = int(input(\"첫번째 숫자를 입력 하세요: \"))\n",
        "\n",
        "def sort3(a, b, c) :\n",
        "  if a > b :\n",
        "      a, b = b, a\n",
        "  if a > c :\n",
        "      a, c = c, a\n",
        "  if b > c :\n",
        "      b, c = c, b\n",
        "\n",
        "  print(a, b, c)\n",
        "\n",
        "sort3(a, b, c)\n",
        "print(\"출력이후\", a, b, c)"
      ],
      "metadata": {
        "colab": {
          "base_uri": "https://localhost:8080/"
        },
        "id": "Bd5EYGqw1hvm",
        "outputId": "2ca81ac8-11fd-485b-ca40-a43ac1fc70b8"
      },
      "execution_count": null,
      "outputs": [
        {
          "output_type": "stream",
          "name": "stdout",
          "text": [
            "첫번째 숫자를 입력 하세요: 34\n",
            "첫번째 숫자를 입력 하세요: 12\n",
            "첫번째 숫자를 입력 하세요: 100\n",
            "12 34 100\n",
            "출력이후 34 12 100\n"
          ]
        }
      ]
    },
    {
      "cell_type": "code",
      "source": [
        "def rtn_cone_vol(r, h) :\n",
        "  if r > 0 and h > 0 :\n",
        "    vol = 1/3 * 3.14 * r ** 2 * h\n",
        "    r, h = 0, 0\n",
        "    return vol\n",
        "\n",
        "  # r, h가 음수일 때\n",
        "  else :\n",
        "    print(\"반지름의 높이 값에 양수를 입력하세요\")\n",
        "\n",
        "r = 50\n",
        "h = 100\n",
        "print(format( rtn_cone_vol(r, h), \">10.3f\"))\n",
        "print(\"함수 사용 후\", r, h)"
      ],
      "metadata": {
        "colab": {
          "base_uri": "https://localhost:8080/"
        },
        "id": "D14tlURi4hwQ",
        "outputId": "31cca47a-ef13-4ae1-c0be-9b6e798bb1b3"
      },
      "execution_count": null,
      "outputs": [
        {
          "output_type": "stream",
          "name": "stdout",
          "text": [
            "261666.667\n",
            "함수 사용 후 50 100\n"
          ]
        }
      ]
    },
    {
      "cell_type": "markdown",
      "source": [
        "변수의 스코프"
      ],
      "metadata": {
        "id": "-JFL0vnA7m1h"
      }
    },
    {
      "cell_type": "code",
      "source": [
        "x = 1\n",
        "print(\"x의 값은\", x)\n",
        "\n",
        "def inc(x) :\n",
        "  x = x + 1\n",
        "  print(\"x의 값은\", x)\n",
        "inc(x)\n",
        "print(\"3. x의 값은\", x)"
      ],
      "metadata": {
        "colab": {
          "base_uri": "https://localhost:8080/"
        },
        "id": "he_uBTZl7mjY",
        "outputId": "53a566e8-ec5e-4935-ee45-6dcdac3d632a"
      },
      "execution_count": null,
      "outputs": [
        {
          "output_type": "stream",
          "name": "stdout",
          "text": [
            "x의 값은 1\n",
            "x의 값은 2\n",
            "3. x의 값은 1\n"
          ]
        }
      ]
    },
    {
      "cell_type": "markdown",
      "source": [
        "단위 원뿔(반지름20, 높이 30)의 부피와 겉넓이를 출력하는 문제"
      ],
      "metadata": {
        "id": "Dp8CxJeG8I1W"
      }
    },
    {
      "cell_type": "code",
      "source": [
        "def rtn_cone_vol(r = 20, h = 30) :\n",
        "  if r > 0 and h > 0 :\n",
        "    # r, h 모두 양수일 때\n",
        "\n",
        "    return 1/3 * 3.14 * r ** 2 * h, 3.14 * r ** 2 + 3.14 * r * h\n",
        "\n",
        "  # r, h가 음수일 때\n",
        "  else :\n",
        "    print(\"반지름의 높이 값에 양수를 입력하세요\")\n",
        "\n",
        "print(rtn_cone_vol_surf(100, 200))"
      ],
      "metadata": {
        "colab": {
          "base_uri": "https://localhost:8080/"
        },
        "id": "n7UZwBnM8H25",
        "outputId": "9b6a8ef9-e600-4753-dc55-5d7c13022b1f"
      },
      "execution_count": null,
      "outputs": [
        {
          "output_type": "stream",
          "name": "stdout",
          "text": [
            "(2093333.3333333333, 94200.0)\n"
          ]
        }
      ]
    },
    {
      "cell_type": "markdown",
      "source": [
        "여러개의 수를 입력받고 합과 평균을 반환하는 var_sum_avg함수를 사용하여, (20, 25, 10, 85, 100, 150)에 대한 합과 평균을 출력하는 프로그램을 작성하시오"
      ],
      "metadata": {
        "id": "LvVlb-j_80HM"
      }
    },
    {
      "cell_type": "code",
      "source": [
        "def var_sum_avg(*numbers) :\n",
        "  sum = 0\n",
        "  count = 0\n",
        "\n",
        "  for i in numbers :\n",
        "    sum = sum + i\n",
        "    count = count + 1\n",
        "\n",
        "  return sum, sum/count\n",
        "\n",
        "print(var_sum_avg(20, 25, 10, 85, 100, 150))"
      ],
      "metadata": {
        "colab": {
          "base_uri": "https://localhost:8080/"
        },
        "id": "pyNnG4qH9Ijr",
        "outputId": "9a241dd5-fa07-4193-e7cb-25fca431fb81"
      },
      "execution_count": null,
      "outputs": [
        {
          "output_type": "stream",
          "name": "stdout",
          "text": [
            "(390, 65.0)\n"
          ]
        }
      ]
    },
    {
      "cell_type": "markdown",
      "source": [
        "객체지향"
      ],
      "metadata": {
        "id": "o7sXnCm5hZPv"
      }
    },
    {
      "cell_type": "code",
      "source": [
        "class Cone :\n",
        "  def __init__ (self, radius= 20, height = 30) :\n",
        "    self.r = radius\n",
        "    self.h = height\n",
        "\n",
        "  def get_vol(self) :\n",
        "    return 1/3 * 3.14 * self.r ** 2 * self.h\n",
        "\n",
        "  def get_surf(self):\n",
        "      return 3.14 * self.r ** 2 + 3.14 * self.r * self.h\n",
        "# def rtn_cone_vol_surf(r, h) :\n",
        "#     if r > 0 and h > 0 :\n",
        "#       vol = 1/3 * 3.14 * r ** 2 * h\n",
        "#       r, h = 0, 0\n",
        "#       return vol\n",
        "\n",
        "  #   # r, h가 음수일 때\n",
        "  #   else :\n",
        "  #     print(\"반지름의 높이 값에 양수를 입력하세요\")\n",
        "\n",
        "  # r = 50\n",
        "  # h = 100\n",
        "  # print(format( rtn_cone_vol(r, h), \">10.3f\"))\n",
        "  # print(\"함수 사용 후\", r, h)"
      ],
      "metadata": {
        "id": "u2PPip5YhYdQ"
      },
      "execution_count": null,
      "outputs": []
    },
    {
      "cell_type": "markdown",
      "source": [
        "BMI 계산 프로그램"
      ],
      "metadata": {
        "id": "QpwIQXpWoMEd"
      }
    },
    {
      "cell_type": "code",
      "source": [
        "class BMI :\n",
        "  def __init__(self, name, age, weight, height) :\n",
        "    self.name = name\n",
        "    self.age = age\n",
        "    self.weight = weight\n",
        "    self.height = height\n",
        "\n",
        "  def get_BMI(self) :\n",
        "    return self.weight / (self.height/ 100) ** 2\n",
        "\n",
        "  def get_status(self) :\n",
        "    bmi = self.get_BMI()\n",
        "    if bmi >= 25 :\n",
        "      return \"비만\"\n",
        "    elif bmi >= 23 and bmi < 25 :\n",
        "      return \"과체중\"\n",
        "    elif bmi >= 18.5 and bmi < 23 :\n",
        "      return \"정상\"\n",
        "    else :\n",
        "      return \"저체중\"\n"
      ],
      "metadata": {
        "id": "lnUBkbD0oLaN"
      },
      "execution_count": null,
      "outputs": []
    },
    {
      "cell_type": "markdown",
      "source": [
        "단위 원뿔과 반지름, 높이가 50,100 인 원뿔의 부피와 겉넓이를 출력하는 프로그램을 작성하시오"
      ],
      "metadata": {
        "id": "HTDCZ4XlsKng"
      }
    },
    {
      "cell_type": "code",
      "source": [
        "unit_cone = Cone()\n",
        "big_cone = Cone(50, 100)\n",
        "\n",
        "print(\"단위 원뿔의 겉넓이와 부피는\", unit_cone.get_surf() , unit_cone.get_vol(), \"입니다.\")\n",
        "print( \"큰 원뿔의 겉넓이와 부피는 \",big_cone.get_surf(),big_cone.get_vol(), \"입니다.\")\n",
        "#"
      ],
      "metadata": {
        "colab": {
          "base_uri": "https://localhost:8080/"
        },
        "id": "o0ltB7nysKCX",
        "outputId": "52708570-3ff7-4f6b-c094-081205ec1c17"
      },
      "execution_count": null,
      "outputs": [
        {
          "output_type": "stream",
          "name": "stdout",
          "text": [
            "단위 원뿔의 겉넓이와 부피는 3140.0 12559.999999999998 입니다.\n",
            "큰 원뿔의 겉넓이와 부피는  23550.0 261666.66666666666 입니다.\n"
          ]
        }
      ]
    },
    {
      "cell_type": "code",
      "source": [
        "person1 = BMI(\"홍길동\", 40, 78, 182)\n",
        "\n",
        "print(person1.name + \"님(\" + str(person1.age) + \"세)의 BMI는 (\" + str(person1.get_BMI()) + \"),\" + \"결과는\", person1.get_status(), \"입니다.\")"
      ],
      "metadata": {
        "colab": {
          "base_uri": "https://localhost:8080/"
        },
        "id": "f81ZvYTHsub4",
        "outputId": "633306b4-3e38-43d6-ca4a-ce9dacabfc0a"
      },
      "execution_count": null,
      "outputs": [
        {
          "output_type": "stream",
          "name": "stdout",
          "text": [
            "홍길동님(40세)의 BMI는 (23.54788069073783),결과는 과체중 입니다.\n"
          ]
        }
      ]
    },
    {
      "cell_type": "code",
      "source": [
        "sample_cone = Cone(100, 200)\n",
        "\n",
        "sample_cone.get_vol()\n",
        "sample_cone.get_surf()\n",
        "\n",
        "sample_cone.r = -50\n",
        "\n",
        "print(sample_cone.get_surf())"
      ],
      "metadata": {
        "colab": {
          "base_uri": "https://localhost:8080/"
        },
        "id": "59LajlUrwZ9O",
        "outputId": "d356f8ed-b782-48b9-90f8-8937ecd637fc"
      },
      "execution_count": null,
      "outputs": [
        {
          "output_type": "stream",
          "name": "stdout",
          "text": [
            "-23550.0\n"
          ]
        }
      ]
    },
    {
      "cell_type": "code",
      "source": [
        "class pCone :\n",
        "  def __init__ (self, radius= 20, height = 30) :\n",
        "    if radius >= 0 and height > 0 :\n",
        "      self.__r = radius\n",
        "      self.__h = height\n",
        "\n",
        "  def get_vol(self) :\n",
        "    return 1/3 * 3.14 * self.__r ** 2 * self.__h\n",
        "\n",
        "  def get_surf(self):\n",
        "    return 3.14 * self.__r ** 2 + 3.14 * self.__r * self.__h\n",
        "\n",
        "  def get_radius(self):\n",
        "    return self.__r\n",
        "\n",
        "  def set_radius(self, radius):\n",
        "    if radius >=0 :\n",
        "      self.__r = radius"
      ],
      "metadata": {
        "id": "97rgUf4SyNOj"
      },
      "execution_count": null,
      "outputs": []
    },
    {
      "cell_type": "code",
      "source": [
        "perfect_cone = pCone(100, 200)\n",
        "\n",
        "print(perfect_cone.get_vol())\n",
        "print(perfect_cone.get_surf())"
      ],
      "metadata": {
        "colab": {
          "base_uri": "https://localhost:8080/"
        },
        "id": "aVCUnJ2HyqhV",
        "outputId": "ac113f19-b8af-4a69-a587-a1024a2e9fbc"
      },
      "execution_count": null,
      "outputs": [
        {
          "output_type": "stream",
          "name": "stdout",
          "text": [
            "2093333.3333333333\n",
            "94200.0\n"
          ]
        }
      ]
    },
    {
      "cell_type": "code",
      "source": [
        "모듈"
      ],
      "metadata": {
        "id": "aZf4IIU6ox08"
      },
      "execution_count": null,
      "outputs": []
    },
    {
      "cell_type": "code",
      "source": [
        "import math\n",
        "\n",
        "help()"
      ],
      "metadata": {
        "id": "VUaxojfGBoLm",
        "colab": {
          "base_uri": "https://localhost:8080/"
        },
        "outputId": "8aae0162-9517-4af6-95ec-a63b3ffed6e0"
      },
      "execution_count": null,
      "outputs": [
        {
          "output_type": "stream",
          "name": "stdout",
          "text": [
            "Welcome to Python 3.11's help utility! If this is your first time using\n",
            "Python, you should definitely check out the tutorial at\n",
            "https://docs.python.org/3.11/tutorial/.\n",
            "\n",
            "Enter the name of any module, keyword, or topic to get help on writing\n",
            "Python programs and using Python modules.  To get a list of available\n",
            "modules, keywords, symbols, or topics, enter \"modules\", \"keywords\",\n",
            "\"symbols\", or \"topics\".\n",
            "\n",
            "Each module also comes with a one-line summary of what it does; to list\n",
            "the modules whose name or summary contain a given string such as \"spam\",\n",
            "enter \"modules spam\".\n",
            "\n",
            "To quit this help utility and return to the interpreter,\n",
            "enter \"q\" or \"quit\".\n",
            "\n",
            "\n",
            "You are now leaving help and returning to the Python interpreter.\n",
            "If you want to ask for help on a particular object directly from the\n",
            "interpreter, you can type \"help(object)\".  Executing \"help('string')\"\n",
            "has the same effect as typing a particular string at the help> prompt.\n"
          ]
        }
      ]
    },
    {
      "cell_type": "code",
      "source": [
        "import math\n",
        "\n",
        "print(math.pi)\n",
        "\n",
        "class Cone :\n",
        "  def __init__ (self, radius= 20, height = 30) :\n",
        "    self.r = radius\n",
        "    self.h = height\n",
        "\n",
        "  def get_vol(self) :\n",
        "    return 1/3 * math.pi * self.r ** 2 * self.h\n",
        "\n",
        "  def get_surf(self):\n",
        "      return math.pi * self.r ** 2 + math.pi * self.r * self.h"
      ],
      "metadata": {
        "colab": {
          "base_uri": "https://localhost:8080/"
        },
        "id": "bADV6q9qp-fV",
        "outputId": "37b8cb54-74b7-4bcf-ac65-993a93047797"
      },
      "execution_count": null,
      "outputs": [
        {
          "output_type": "stream",
          "name": "stdout",
          "text": [
            "3.141592653589793\n"
          ]
        }
      ]
    },
    {
      "cell_type": "markdown",
      "source": [
        "두 변의 길이가 a, b와 끼인각 a인 삼각형의 넓이를 구하는 프로그램을 작성하시오."
      ],
      "metadata": {
        "id": "TCrDGbHUvbae"
      }
    },
    {
      "cell_type": "code",
      "source": [
        "import math\n",
        "from math import sin #리엑트 같네용\n",
        "a, b = 10, 20\n",
        "\n",
        "area = 1 /2 * a * b * math.sin(math.radians(60))\n",
        "\n",
        "print(area)\n"
      ],
      "metadata": {
        "colab": {
          "base_uri": "https://localhost:8080/"
        },
        "id": "3LQXFb9FtWYo",
        "outputId": "10b8b95d-d1fe-4e15-8122-ac8e756d2161"
      },
      "execution_count": null,
      "outputs": [
        {
          "output_type": "stream",
          "name": "stdout",
          "text": [
            "86.60254037844386\n"
          ]
        }
      ]
    },
    {
      "cell_type": "markdown",
      "source": [
        "로또 프로그램"
      ],
      "metadata": {
        "id": "g4s9oxAHxLoX"
      }
    },
    {
      "cell_type": "code",
      "source": [
        "import random\n",
        "\n",
        "guess_str = input(\"1~45 번호 6개를 쉼표로 분리하여 입력하세요: \").split(\", \")\n",
        "guess_list = list()\n",
        "\n",
        "for i in guess_str:\n",
        "  guess_list.append(int(i))\n",
        "lotto_list = random.sample(range(1, 46, 1), 6 )\n",
        "print(\"예상 번호는 \", guess_list, \"입니다.\")\n",
        "print(\"추첨 번호는 \", lotto_list, \"입니다.\")\n",
        "hit_count = 0;\n",
        "\n",
        "for guess in guess_list:\n",
        "  if guess in lotto_list:\n",
        "    hit_count = hit_count + 1\n",
        "\n",
        "print(\"축하합니다\" + str(hit_count)+ \"개 맞췄습니다.\")"
      ],
      "metadata": {
        "colab": {
          "base_uri": "https://localhost:8080/"
        },
        "id": "bdCVNq3pvszo",
        "outputId": "7dae49a4-ab2a-4832-8ad6-f088860fe99e"
      },
      "execution_count": null,
      "outputs": [
        {
          "output_type": "stream",
          "name": "stdout",
          "text": [
            "1~45 번호 6개를 쉼표로 분리하여 입력하세요: 2, 5, 6, 8, 25, 39\n",
            "추첨 번호는  [2, 5, 6, 8, 25, 39] 입니다.\n",
            "추첨 번호는  [17, 20, 10, 38, 45, 29] 입니다\n",
            "축하합니다0개 맞췄습니다.\n"
          ]
        }
      ]
    },
    {
      "cell_type": "markdown",
      "source": [
        "20번의 기회 안에 1 ~ 1000 사이의 숫자를 맞히는 스무고개 프로그램을 작성하시오"
      ],
      "metadata": {
        "id": "Fd9B2r6txNtK"
      }
    },
    {
      "cell_type": "code",
      "source": [
        "import random\n",
        "\n",
        "hit_number = random.randint(1, 1001)\n",
        "\n",
        "guess_count_list = range(1, 21, 1)\n",
        "\n",
        "passfaill = False\n",
        "\n",
        "for guess_count in guess_count_list:\n",
        "# hit_count = 0\n",
        "\n",
        "  guess = int(input(\"숫자를 맞춰보세요(\"+str(guess_count)+ \"번째 시도): \" ))\n",
        "\n",
        "  if hit_number == guess:\n",
        "    passfaill = True\n",
        "    break;\n",
        "  elif hit_number > guess:\n",
        "    print(str(\"guess\") + \"보다 큽니다.\",  end=\"\")\n",
        "  else:\n",
        "    print(str(\"guess\") + \"보다 작습니다.\",  end=\"\")\n",
        "\n",
        "if passfaill == True:\n",
        "  print(\"맞췄습니다. 축하합니다\")\n",
        "else:\n",
        "  print(\"모든기회를 다 사용하셨습니다. 다음 기회를 이용해주세요\")"
      ],
      "metadata": {
        "colab": {
          "base_uri": "https://localhost:8080/"
        },
        "id": "KefDIYKpxLGo",
        "outputId": "5801e9b0-dce1-4c8e-ed7a-d305827928c5"
      },
      "execution_count": null,
      "outputs": [
        {
          "output_type": "stream",
          "name": "stdout",
          "text": [
            "숫자를 맞춰보세요(1번째 시도): 21\n",
            "guess보다 큽니다.숫자를 맞춰보세요(2번째 시도): 600\n",
            "guess보다 큽니다.숫자를 맞춰보세요(3번째 시도): 90\n",
            "guess보다 큽니다.숫자를 맞춰보세요(4번째 시도): 990\n",
            "guess보다 큽니다.숫자를 맞춰보세요(5번째 시도): 999\n",
            "guess보다 큽니다.숫자를 맞춰보세요(6번째 시도): 1000\n",
            "guess보다 큽니다.숫자를 맞춰보세요(7번째 시도): 1\n",
            "guess보다 큽니다.숫자를 맞춰보세요(8번째 시도): 1001\n",
            "guess보다 큽니다.숫자를 맞춰보세요(9번째 시도): 3000\n",
            "guess보다 큽니다.숫자를 맞춰보세요(10번째 시도): 2000\n",
            "guess보다 큽니다.숫자를 맞춰보세요(11번째 시도): 1\n",
            "guess보다 큽니다.숫자를 맞춰보세요(12번째 시도): 6000\n",
            "guess보다 큽니다.숫자를 맞춰보세요(13번째 시도): 10000\n",
            "guess보다 작습니다.숫자를 맞춰보세요(14번째 시도): 9999\n",
            "guess보다 작습니다.숫자를 맞춰보세요(15번째 시도): 9000\n",
            "guess보다 작습니다.숫자를 맞춰보세요(16번째 시도): 8000\n",
            "guess보다 작습니다.숫자를 맞춰보세요(17번째 시도): 7000\n",
            "guess보다 작습니다.숫자를 맞춰보세요(18번째 시도): 2000\n",
            "guess보다 큽니다.숫자를 맞춰보세요(19번째 시도): 3000\n",
            "guess보다 큽니다.숫자를 맞춰보세요(20번째 시도): 4000\n",
            "guess보다 큽니다.모든기회를 다 사용하셨습니다. 다음 기회를 이용해주세요\n"
          ]
        }
      ]
    },
    {
      "cell_type": "code",
      "source": [
        "import time\n",
        "\n",
        "start_time = time.time()\n",
        "\n",
        "def is_prime(x):\n",
        "  for i in range(2, x):\n",
        "    if x % i == 0:\n",
        "      return False\n",
        "\n",
        "  return True\n",
        "prime_count = 0\n",
        "\n",
        "for i in range(2, 501):\n",
        "  if is_prime(i):\n",
        "    prime_count = prime_count + 1\n",
        "    print(i, end = \", \")\n",
        "\n",
        "end_time = time.time()\n",
        "\n",
        "print(\"\\n\" ,end_time - start_time, \"초 실행했습니다.\")\n"
      ],
      "metadata": {
        "colab": {
          "base_uri": "https://localhost:8080/"
        },
        "id": "QV0agySJ3Mh1",
        "outputId": "5b0e2ae1-7943-4020-f166-d3aa6e917584"
      },
      "execution_count": null,
      "outputs": [
        {
          "output_type": "stream",
          "name": "stdout",
          "text": [
            "2, 3, 5, 7, 11, 13, 17, 19, 23, 29, 31, 37, 41, 43, 47, 53, 59, 61, 67, 71, 73, 79, 83, 89, 97, 101, 103, 107, 109, 113, 127, 131, 137, 139, 149, 151, 157, 163, 167, 173, 179, 181, 191, 193, 197, 199, 211, 223, 227, 229, 233, 239, 241, 251, 257, 263, 269, 271, 277, 281, 283, 293, 307, 311, 313, 317, 331, 337, 347, 349, 353, 359, 367, 373, 379, 383, 389, 397, 401, 409, 419, 421, 431, 433, 439, 443, 449, 457, 461, 463, 467, 479, 487, 491, 499, \n",
            " 0.0016934871673583984 초 실행했습니다.\n"
          ]
        }
      ]
    },
    {
      "cell_type": "code",
      "source": [],
      "metadata": {
        "id": "TT-v3rgP4DSa"
      },
      "execution_count": null,
      "outputs": []
    }
  ]
}